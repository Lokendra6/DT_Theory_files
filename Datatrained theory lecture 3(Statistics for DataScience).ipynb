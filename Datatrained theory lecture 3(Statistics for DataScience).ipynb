{
 "cells": [
  {
   "cell_type": "code",
   "execution_count": 1,
   "metadata": {},
   "outputs": [],
   "source": [
    "##Statistics 2 type..Descriptive and Inferential\n",
    "##Descriptive...able to describe the data so called descriptive data\n",
    "##Inferential..IF data is too big ..then we use sample and drawconclusion about population on basis of sample finding\n",
    "##Descriptive and Infrentail statistcis go hand in hand\n",
    "##Population and Sample\n"
   ]
  },
  {
   "cell_type": "code",
   "execution_count": 2,
   "metadata": {},
   "outputs": [],
   "source": [
    "##Mean ,Median,Mode\n",
    "##Mean of sample\n",
    "##import statistics as st\n",
    "##a=[10,20,30,40,50]\n",
    "##st.mean(a)\n",
    "##st.median(a)\n",
    "##st.mode(A)\n"
   ]
  },
  {
   "cell_type": "code",
   "execution_count": 8,
   "metadata": {},
   "outputs": [],
   "source": [
    "##import pandas as pd\n",
    "##li=pd.DataFrame(a)\n",
    "##li.mean()\n",
    "##li.median()\n",
    "##li.mode()"
   ]
  },
  {
   "cell_type": "code",
   "execution_count": null,
   "metadata": {},
   "outputs": [],
   "source": [
    "##Qualitative data n Quantitative data"
   ]
  },
  {
   "cell_type": "code",
   "execution_count": 1,
   "metadata": {},
   "outputs": [],
   "source": [
    "##qualitative(Categorical)...Nominal..Ordinal..Heirarical..binary\n",
    "##Quantitative...Discrete n Continuous"
   ]
  },
  {
   "cell_type": "code",
   "execution_count": 2,
   "metadata": {},
   "outputs": [],
   "source": [
    "##Descriptive Statistics and distributions\n",
    "##Measure of central tendency\n",
    "##Measure of dispersion(spread)"
   ]
  },
  {
   "cell_type": "code",
   "execution_count": 3,
   "metadata": {},
   "outputs": [],
   "source": [
    "##import pandas as pd\n",
    "##import numpy as np\n",
    "##x=np.random.randint(30,35,10)...generating 10 random integers between 30 to 35"
   ]
  },
  {
   "cell_type": "code",
   "execution_count": 4,
   "metadata": {},
   "outputs": [],
   "source": [
    "##Measure of central tendency\n",
    "##np.mean(x)\n",
    "##np.median(x)"
   ]
  },
  {
   "cell_type": "code",
   "execution_count": 5,
   "metadata": {},
   "outputs": [],
   "source": [
    "##measure of Dispersion\n",
    "##variance= squre of (x-Miu)/n.....suppose we have 10 data points ..so summation of square of(x-mean)/n\n",
    "##Miu is mean...x will change according to datapoint\n",
    "##squareroot of variance=standard deviation\n",
    "##np.var(x)\n",
    "##np.std(x)"
   ]
  },
  {
   "cell_type": "code",
   "execution_count": 6,
   "metadata": {},
   "outputs": [],
   "source": [
    "##quartiles\n",
    "##y=[10,20,30,40,50,60,70,80]\n",
    "##y=pd.DataFrame(y)\n",
    "##y.describe()5\n",
    "##describe provide count,mean,std,min,25%,50%(median),75%,max\n",
    "##IQR(interquartile range)=q3(75)-q1(25)\n",
    "##quartile range=max-min"
   ]
  },
  {
   "cell_type": "code",
   "execution_count": 7,
   "metadata": {},
   "outputs": [],
   "source": [
    "##Distribution\n",
    "##symmetric distributiojn...in symmetric distribution..mean,median,mode are equal\n",
    "##asymmetric..right skewwd..tail at right\n",
    "#left skewed...tail at left\n",
    "##left skewed   mean<median<mode\n",
    "##right skewed  mode<median<mean"
   ]
  },
  {
   "cell_type": "code",
   "execution_count": 10,
   "metadata": {},
   "outputs": [],
   "source": [
    "##Covariance n correlation\n",
    "##It is method to find the variance between 2 variables\n",
    "##It is a measure of correlation\n",
    "##It is the relationship between pair of random vaiable where change in one variable causes change in another variable\n",
    "##It can take any value betwen minus infinity to plus infinity where negative value represent negative relationship and\n",
    "##positive value represent positive relationship\n",
    "##It is used for linear relationship between variable and gives the direction of relationship between varibales\n",
    "##It has dimensions\n",
    "##It affect the scale and it is not unit free measure"
   ]
  },
  {
   "cell_type": "code",
   "execution_count": 11,
   "metadata": {},
   "outputs": [],
   "source": [
    "##covariance for pupulation=summation of i=1 to n(xi-x')(yi-y')/n...x' and y' is mean..n population\n",
    "##covariance for sample=summation of i=1 to n(xi-x')(yi-y')/n-1....n samples"
   ]
  },
  {
   "cell_type": "code",
   "execution_count": 12,
   "metadata": {},
   "outputs": [],
   "source": [
    "##Corelation\n",
    "##corelation provide whether and how strong pair of variables are related to each other\n",
    "##corelation take value between -1 to +1\n",
    "##In this variable are indirectly related to each other\n",
    "##It provide direction n strength of relationship between variables\n",
    "##It is a scaled version of covariance\n",
    "##It is dimensionless\n",
    "##Corelation does not affect the scale,it is unit free measure\n",
    "##corelation=summation of i=1 to n(xi-x')(yi-y')/sqrt(summation of i=1 to n(square of(xi-x'))summation of i=1 to n(square of(yi-y')))"
   ]
  },
  {
   "cell_type": "code",
   "execution_count": 13,
   "metadata": {},
   "outputs": [],
   "source": [
    "##Hypothesis n ANOVA(anlysis of variance)\n",
    "##Hypothesis testing in statistics is a way for you to test the results of a survey or experiment to see if you have \n",
    "##meaningful results. \n",
    "##Hypothesis....Making a guess based on the assumption without any scientific proof\n",
    "##Hypothesis..explaining a situation based on reasonbale assumption.\n",
    "##Null Hypothesis...Ho..Decision always leads to status quo...Current status quo/assumption does not change\n",
    "##Alternate Hypothesis..Ha...Decision leads to opposite of Ho"
   ]
  },
  {
   "cell_type": "code",
   "execution_count": 14,
   "metadata": {},
   "outputs": [],
   "source": [
    "##Statistical tools..ANOVA n Ttest\n",
    "##import pandas as pd\n",
    "##hyp=pd.read_csv(\"hypothesisdata.csv\")"
   ]
  },
  {
   "cell_type": "code",
   "execution_count": 15,
   "metadata": {},
   "outputs": [],
   "source": [
    "##Ho=mu>=60\n",
    "##Ha=mu<60\n",
    "##hyp[\"Maths1\"].mean()\n",
    "##hyp[\"Maths2\"].mean()"
   ]
  },
  {
   "cell_type": "code",
   "execution_count": 16,
   "metadata": {},
   "outputs": [],
   "source": [
    "##alpha=.05\n",
    "##xbar=52.645....sample mean\n",
    "##mu=60...average of marks"
   ]
  },
  {
   "cell_type": "code",
   "execution_count": 17,
   "metadata": {},
   "outputs": [],
   "source": [
    "##one sample ttest...test for one sample\n",
    "##import scipy.stats as st\n",
    "##s,p=st.ttest_1sample(hyp.Maths1,mu)\n",
    "##when we run ttest we get 2 values..statistic(statistics score) and pvalue\n",
    "##we are interested in pvalue"
   ]
  },
  {
   "cell_type": "code",
   "execution_count": 18,
   "metadata": {},
   "outputs": [],
   "source": [
    "##s\n",
    "##p\n",
    "##p value help us dteremine whether to accept or reject null hypothesis\n",
    "##pvalue<alpha...reject null hypothesis\n",
    "##pvalue>alpha...accept null hypothesis\n",
    "##in current case..reject null hypothesis on bais of pvalue and accept alternate"
   ]
  },
  {
   "cell_type": "code",
   "execution_count": 1,
   "metadata": {},
   "outputs": [],
   "source": [
    "##2 sample t test...2 type..independent n paired \n",
    "##Earlier we used maths1 above but we also have maths 2 s0\n"
   ]
  },
  {
   "cell_type": "code",
   "execution_count": 2,
   "metadata": {},
   "outputs": [],
   "source": [
    "##hyp.head()\n",
    "##hyp[\"Gender\"].value_counts()"
   ]
  },
  {
   "cell_type": "code",
   "execution_count": 3,
   "metadata": {},
   "outputs": [],
   "source": [
    "##how to subset the data on gender\n",
    "##hyp[hyp[\"Gender\"]==1].Maths1.head()"
   ]
  },
  {
   "cell_type": "code",
   "execution_count": 4,
   "metadata": {},
   "outputs": [],
   "source": [
    "##independent\n",
    "##t,p=st.ttest_ind(hyp[hyp[\"Gender\"]==1].Math1,hyp[hyp[\"Gender\"]==0].Math2)\n",
    "##p<alpha..reject null hypothesis\n",
    "##p>alpha..accept null hypothesis"
   ]
  },
  {
   "cell_type": "code",
   "execution_count": 6,
   "metadata": {},
   "outputs": [],
   "source": [
    "##p\n",
    "##t"
   ]
  },
  {
   "cell_type": "code",
   "execution_count": 7,
   "metadata": {},
   "outputs": [],
   "source": [
    "##paired test\n",
    "##t,p=st.ttest_rel(hyp.Maths1,hyp.Maths2)\n",
    "##p<alpha..reject null hypothesis\n",
    "##p>alpha..accept null hypothesis"
   ]
  },
  {
   "cell_type": "code",
   "execution_count": 8,
   "metadata": {},
   "outputs": [],
   "source": [
    "##Anova(analysis of Variance)\n",
    "##An0va is used to compare differences of means among more than 2 groups.It does this by looking at variation in the data\n",
    "##Anova compares the amount of variation between groups with the amount of variation within groups.\n",
    "##Null hypothesis..typically is that all means are equal\n",
    "##The independent variable are categorical\n",
    "##Dependent variable are continous\n",
    "##F value=sample means of between groups/sample means of within groups"
   ]
  },
  {
   "cell_type": "code",
   "execution_count": 9,
   "metadata": {},
   "outputs": [],
   "source": [
    "##import pandas as pd\n",
    "##maths={\"A\":[82,83,87],\"B\":[83,78,68],\"C\":[38,59,55]}"
   ]
  },
  {
   "cell_type": "code",
   "execution_count": 10,
   "metadata": {},
   "outputs": [],
   "source": [
    "##Hypothesis contruction\n",
    "##The null hypothesis for anova says that average of dependent variable are the same for all th given groups\n",
    "##Alternate hypothesis says mean of dependent variable is not same for the given group"
   ]
  },
  {
   "cell_type": "code",
   "execution_count": 2,
   "metadata": {},
   "outputs": [],
   "source": [
    "##Ho=muA=muB=muC\n",
    "##Ha:not all are equal\n",
    "##Step 1\n",
    "##school_a=df[\"A\"].mean()\n",
    "##school_b=df[\"B\"].mean()\n",
    "##school_c=df[\"C\"].mean()\n",
    "##print(round(school_a,2))\n",
    "##print(round(school_b,2))\n",
    "##print(round(school_c,2))"
   ]
  },
  {
   "cell_type": "code",
   "execution_count": 3,
   "metadata": {},
   "outputs": [],
   "source": [
    "##Step 2\n",
    "##School_grand=(school_a + school_b + school_c)/3\n",
    "##print(\"Grand mean ==>\",round(School_grand,2))"
   ]
  },
  {
   "cell_type": "code",
   "execution_count": 1,
   "metadata": {},
   "outputs": [],
   "source": [
    "##Step 3\n",
    "##Variation between,within and total\n",
    "## sum of squared (SS) deviation about grand mean\n",
    "## i.e.sum of (71.44 - 1st instance)**2 upto (71.44 - last instance)**2 and each squared\n",
    "##SS Total\n",
    "##(71.44-82)**2+(71.44-83)**2+(71.44-97)**2+........71.44..total mean...82,83,97..r observation of school A\n",
    "##(71.44-83)**2+(71.44-78)**2+(71.44-68)**2+........83,78,68..r observation of school B\n",
    "##(71.44-38)**2+(71.44-59)**2+(71.44-55)**2.........38,59,55..r observation of school C\n",
    "##SS_total=2630.2\n",
    "\n",
    "##SS Within\n",
    "##(87.3-82)**2+(87.3-83)**2+(87.3-97)**2+.....87.3 is mean of observation of school A\n",
    "##(76.3-83)**2+(76.3-78)**2+(76.3-68)**2+.....76.3 is mean of observation of school B\n",
    "##(50.6-38)**2+(50.6-59)**2+(50.6-55)**2......50.6 is mean of observation of school C\n",
    "##SS_Within=506\n",
    "\n",
    "##SS_Between\n",
    "##(Grand mean - Group A.mean)**2 multiply by 3..3 number of item in group A\n",
    "##(Grand mean - Group B.mean)**2 multiply by 3..3 number of item in group B\n",
    "##(Grand mean - Group C.mean)**2 multiply by 3..3 number of item in group C\n",
    "##SS_between=2124.2"
   ]
  },
  {
   "cell_type": "code",
   "execution_count": 2,
   "metadata": {},
   "outputs": [],
   "source": [
    "##Step 3\n",
    "##Find the degrees of freedom\n",
    "##defr_total=number of observation-1=9-1=8\n",
    "##defr_total=8\n",
    "##defr_between=number of observation - 1= 3-1 =2\n",
    "##defr_between=2\n",
    "##defr_within=number of observation - 1= 9-3=6\n",
    "##defr_within=6"
   ]
  },
  {
   "cell_type": "code",
   "execution_count": 3,
   "metadata": {},
   "outputs": [],
   "source": [
    "##Step 4\n",
    "##ms_betwe_gr=ss_between/defr_between.....mean squared between groups\n",
    "##print(ms_between_gr)\n",
    "##ms_within_gr=ss_within/defr_within.....mean squared within group\n",
    "##ms_within_"
   ]
  },
  {
   "cell_type": "code",
   "execution_count": 4,
   "metadata": {},
   "outputs": [],
   "source": [
    "##f_value=ms_betew_gr/ms_within_gr\n",
    "##print(f_value)"
   ]
  },
  {
   "cell_type": "code",
   "execution_count": null,
   "metadata": {},
   "outputs": [],
   "source": [
    "##calculate the p value from f table\n",
    "##p_value for f value=12.59 and degree of freedom 2(between) and 6 (within) is 0.007\n",
    "##since p-value is less than alpha that is .05 we reject null hypothesis..\n",
    "## alternate hypothesis accepted that is there is a difference in marks obtained by students belonging to different group"
   ]
  }
 ],
 "metadata": {
  "kernelspec": {
   "display_name": "Python 3",
   "language": "python",
   "name": "python3"
  },
  "language_info": {
   "codemirror_mode": {
    "name": "ipython",
    "version": 3
   },
   "file_extension": ".py",
   "mimetype": "text/x-python",
   "name": "python",
   "nbconvert_exporter": "python",
   "pygments_lexer": "ipython3",
   "version": "3.7.0"
  }
 },
 "nbformat": 4,
 "nbformat_minor": 2
}
