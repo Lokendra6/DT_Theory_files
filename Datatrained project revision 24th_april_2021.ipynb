{
 "cells": [
  {
   "cell_type": "code",
   "execution_count": null,
   "metadata": {},
   "outputs": [],
   "source": [
    "##for categorical dataste like..mushroom no outliers and no skewness detection n removal\n",
    "##also apply all transform and standardardization only on features not on target\n",
    "##boxcox not used becuase boxcox sensitive with zero and negative value,so use transformation\n",
    "##if differenc eof cross val and score is same for all model then..go for hyperparameter of a"
   ]
  }
 ],
 "metadata": {
  "kernelspec": {
   "display_name": "Python 3",
   "language": "python",
   "name": "python3"
  },
  "language_info": {
   "codemirror_mode": {
    "name": "ipython",
    "version": 3
   },
   "file_extension": ".py",
   "mimetype": "text/x-python",
   "name": "python",
   "nbconvert_exporter": "python",
   "pygments_lexer": "ipython3",
   "version": "3.7.0"
  }
 },
 "nbformat": 4,
 "nbformat_minor": 2
}
