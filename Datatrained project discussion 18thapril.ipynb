{
 "cells": [
  {
   "cell_type": "code",
   "execution_count": 1,
   "metadata": {},
   "outputs": [],
   "source": [
    "##sonor datset...to check rock or mine\n",
    "##binary classification..then can use logistic regression n other classification algo\n",
    "\n",
    "##Data description\n",
    "##write the datadescription\n",
    "##The task is to train a netwrok to discriminate the sonar signals bounced off a roughly cylinderical rock.the dataset contain 111\n",
    "##patterns obtained by bouncing sonar signals off a metal cylinder at variousangles and at various conditions.\n",
    "## 1 if oject is rock 1 and 0 if object is mine"
   ]
  },
  {
   "cell_type": "code",
   "execution_count": 11,
   "metadata": {},
   "outputs": [],
   "source": [
    "import numpy as np\n",
    "import pandas as pd\n",
    "import seaborn as sns\n",
    "import matplotlib.pyplot as plt\n",
    "import sklearn\n",
    "from sklearn.model_selection import train_test_split\n",
    "from scipy.stats import zscore\n",
    "from sklearn.metrics import classification_report,confusion_matrix,accuracy_score\n",
    "import warnings\n",
    "warnings.filterwarnings(\"ignore\")"
   ]
  },
  {
   "cell_type": "code",
   "execution_count": 17,
   "metadata": {},
   "outputs": [],
   "source": [
    "df=pd.read_csv(\"sonar.csv\")\n",
    "df.head()\n",
    "pd.set_option(\"display.max_rows\",None)\n",
    "##above command used so that all the rows are displayed we run any command not just intial 5 and last 5"
   ]
  },
  {
   "cell_type": "code",
   "execution_count": 5,
   "metadata": {},
   "outputs": [
    {
     "name": "stdout",
     "output_type": "stream",
     "text": [
      "<class 'pandas.core.frame.DataFrame'>\n",
      "RangeIndex: 207 entries, 0 to 206\n",
      "Data columns (total 61 columns):\n",
      "0.0200    207 non-null float64\n",
      "0.0371    207 non-null float64\n",
      "0.0428    207 non-null float64\n",
      "0.0207    207 non-null float64\n",
      "0.0954    207 non-null float64\n",
      "0.0986    207 non-null float64\n",
      "0.1539    207 non-null float64\n",
      "0.1601    207 non-null float64\n",
      "0.3109    207 non-null float64\n",
      "0.2111    207 non-null float64\n",
      "0.1609    207 non-null float64\n",
      "0.1582    207 non-null float64\n",
      "0.2238    207 non-null float64\n",
      "0.0645    207 non-null float64\n",
      "0.0660    207 non-null float64\n",
      "0.2273    207 non-null float64\n",
      "0.3100    207 non-null float64\n",
      "0.2999    207 non-null float64\n",
      "0.5078    207 non-null float64\n",
      "0.4797    207 non-null float64\n",
      "0.5783    207 non-null float64\n",
      "0.5071    207 non-null float64\n",
      "0.4328    207 non-null float64\n",
      "0.5550    207 non-null float64\n",
      "0.6711    207 non-null float64\n",
      "0.6415    207 non-null float64\n",
      "0.7104    207 non-null float64\n",
      "0.8080    207 non-null float64\n",
      "0.6791    207 non-null float64\n",
      "0.3857    207 non-null float64\n",
      "0.1307    207 non-null float64\n",
      "0.2604    207 non-null float64\n",
      "0.5121    207 non-null float64\n",
      "0.7547    207 non-null float64\n",
      "0.8537    207 non-null float64\n",
      "0.8507    207 non-null float64\n",
      "0.6692    207 non-null float64\n",
      "0.6097    207 non-null float64\n",
      "0.4943    207 non-null float64\n",
      "0.2744    207 non-null float64\n",
      "0.0510    207 non-null float64\n",
      "0.2834    207 non-null float64\n",
      "0.2825    207 non-null float64\n",
      "0.4256    207 non-null float64\n",
      "0.2641    207 non-null float64\n",
      "0.1386    207 non-null float64\n",
      "0.1051    207 non-null float64\n",
      "0.1343    207 non-null float64\n",
      "0.0383    207 non-null float64\n",
      "0.0324    207 non-null float64\n",
      "0.0232    207 non-null float64\n",
      "0.0027    207 non-null float64\n",
      "0.0065    207 non-null float64\n",
      "0.0159    207 non-null float64\n",
      "0.0072    207 non-null float64\n",
      "0.0167    207 non-null float64\n",
      "0.0180    207 non-null float64\n",
      "0.0084    207 non-null float64\n",
      "0.0090    207 non-null float64\n",
      "0.0032    207 non-null float64\n",
      "R         207 non-null object\n",
      "dtypes: float64(60), object(1)\n",
      "memory usage: 98.7+ KB\n"
     ]
    }
   ],
   "source": [
    "df.info()"
   ]
  },
  {
   "cell_type": "code",
   "execution_count": 6,
   "metadata": {},
   "outputs": [
    {
     "data": {
      "text/plain": [
       "(207, 61)"
      ]
     },
     "execution_count": 6,
     "metadata": {},
     "output_type": "execute_result"
    }
   ],
   "source": [
    "df.shape"
   ]
  },
  {
   "cell_type": "code",
   "execution_count": 12,
   "metadata": {},
   "outputs": [
    {
     "data": {
      "text/plain": [
       "0.0200    float64\n",
       "0.0371    float64\n",
       "0.0428    float64\n",
       "0.0207    float64\n",
       "0.0954    float64\n",
       "0.0986    float64\n",
       "0.1539    float64\n",
       "0.1601    float64\n",
       "0.3109    float64\n",
       "0.2111    float64\n",
       "0.1609    float64\n",
       "0.1582    float64\n",
       "0.2238    float64\n",
       "0.0645    float64\n",
       "0.0660    float64\n",
       "0.2273    float64\n",
       "0.3100    float64\n",
       "0.2999    float64\n",
       "0.5078    float64\n",
       "0.4797    float64\n",
       "0.5783    float64\n",
       "0.5071    float64\n",
       "0.4328    float64\n",
       "0.5550    float64\n",
       "0.6711    float64\n",
       "0.6415    float64\n",
       "0.7104    float64\n",
       "0.8080    float64\n",
       "0.6791    float64\n",
       "0.3857    float64\n",
       "           ...   \n",
       "0.2604    float64\n",
       "0.5121    float64\n",
       "0.7547    float64\n",
       "0.8537    float64\n",
       "0.8507    float64\n",
       "0.6692    float64\n",
       "0.6097    float64\n",
       "0.4943    float64\n",
       "0.2744    float64\n",
       "0.0510    float64\n",
       "0.2834    float64\n",
       "0.2825    float64\n",
       "0.4256    float64\n",
       "0.2641    float64\n",
       "0.1386    float64\n",
       "0.1051    float64\n",
       "0.1343    float64\n",
       "0.0383    float64\n",
       "0.0324    float64\n",
       "0.0232    float64\n",
       "0.0027    float64\n",
       "0.0065    float64\n",
       "0.0159    float64\n",
       "0.0072    float64\n",
       "0.0167    float64\n",
       "0.0180    float64\n",
       "0.0084    float64\n",
       "0.0090    float64\n",
       "0.0032    float64\n",
       "R          object\n",
       "Length: 61, dtype: object"
      ]
     },
     "execution_count": 12,
     "metadata": {},
     "output_type": "execute_result"
    }
   ],
   "source": [
    "df.dtypes"
   ]
  },
  {
   "cell_type": "code",
   "execution_count": 15,
   "metadata": {},
   "outputs": [
    {
     "data": {
      "text/html": [
       "<div>\n",
       "<style scoped>\n",
       "    .dataframe tbody tr th:only-of-type {\n",
       "        vertical-align: middle;\n",
       "    }\n",
       "\n",
       "    .dataframe tbody tr th {\n",
       "        vertical-align: top;\n",
       "    }\n",
       "\n",
       "    .dataframe thead th {\n",
       "        text-align: right;\n",
       "    }\n",
       "</style>\n",
       "<table border=\"1\" class=\"dataframe\">\n",
       "  <thead>\n",
       "    <tr style=\"text-align: right;\">\n",
       "      <th></th>\n",
       "      <th>0.0200</th>\n",
       "      <th>0.0371</th>\n",
       "      <th>0.0428</th>\n",
       "      <th>0.0207</th>\n",
       "      <th>0.0954</th>\n",
       "      <th>0.0986</th>\n",
       "      <th>0.1539</th>\n",
       "      <th>0.1601</th>\n",
       "      <th>0.3109</th>\n",
       "      <th>0.2111</th>\n",
       "      <th>...</th>\n",
       "      <th>0.0232</th>\n",
       "      <th>0.0027</th>\n",
       "      <th>0.0065</th>\n",
       "      <th>0.0159</th>\n",
       "      <th>0.0072</th>\n",
       "      <th>0.0167</th>\n",
       "      <th>0.0180</th>\n",
       "      <th>0.0084</th>\n",
       "      <th>0.0090</th>\n",
       "      <th>0.0032</th>\n",
       "    </tr>\n",
       "  </thead>\n",
       "  <tbody>\n",
       "    <tr>\n",
       "      <th>count</th>\n",
       "      <td>207.000000</td>\n",
       "      <td>207.000000</td>\n",
       "      <td>207.000000</td>\n",
       "      <td>207.000000</td>\n",
       "      <td>207.000000</td>\n",
       "      <td>207.000000</td>\n",
       "      <td>207.000000</td>\n",
       "      <td>207.000000</td>\n",
       "      <td>207.000000</td>\n",
       "      <td>207.000000</td>\n",
       "      <td>...</td>\n",
       "      <td>207.000000</td>\n",
       "      <td>207.000000</td>\n",
       "      <td>207.000000</td>\n",
       "      <td>207.000000</td>\n",
       "      <td>207.000000</td>\n",
       "      <td>207.000000</td>\n",
       "      <td>207.000000</td>\n",
       "      <td>207.000000</td>\n",
       "      <td>207.000000</td>\n",
       "      <td>207.000000</td>\n",
       "    </tr>\n",
       "    <tr>\n",
       "      <th>mean</th>\n",
       "      <td>0.029208</td>\n",
       "      <td>0.038443</td>\n",
       "      <td>0.043837</td>\n",
       "      <td>0.054053</td>\n",
       "      <td>0.075105</td>\n",
       "      <td>0.104599</td>\n",
       "      <td>0.121591</td>\n",
       "      <td>0.134677</td>\n",
       "      <td>0.177361</td>\n",
       "      <td>0.208245</td>\n",
       "      <td>...</td>\n",
       "      <td>0.016034</td>\n",
       "      <td>0.013472</td>\n",
       "      <td>0.010729</td>\n",
       "      <td>0.010917</td>\n",
       "      <td>0.009300</td>\n",
       "      <td>0.008181</td>\n",
       "      <td>0.007771</td>\n",
       "      <td>0.007947</td>\n",
       "      <td>0.007936</td>\n",
       "      <td>0.006523</td>\n",
       "    </tr>\n",
       "    <tr>\n",
       "      <th>std</th>\n",
       "      <td>0.023038</td>\n",
       "      <td>0.033040</td>\n",
       "      <td>0.038521</td>\n",
       "      <td>0.046583</td>\n",
       "      <td>0.055669</td>\n",
       "      <td>0.059247</td>\n",
       "      <td>0.061897</td>\n",
       "      <td>0.085340</td>\n",
       "      <td>0.118311</td>\n",
       "      <td>0.134741</td>\n",
       "      <td>...</td>\n",
       "      <td>0.012027</td>\n",
       "      <td>0.009628</td>\n",
       "      <td>0.007071</td>\n",
       "      <td>0.007310</td>\n",
       "      <td>0.007103</td>\n",
       "      <td>0.005719</td>\n",
       "      <td>0.005756</td>\n",
       "      <td>0.006485</td>\n",
       "      <td>0.006196</td>\n",
       "      <td>0.005038</td>\n",
       "    </tr>\n",
       "    <tr>\n",
       "      <th>min</th>\n",
       "      <td>0.001500</td>\n",
       "      <td>0.000600</td>\n",
       "      <td>0.001500</td>\n",
       "      <td>0.005800</td>\n",
       "      <td>0.006700</td>\n",
       "      <td>0.010200</td>\n",
       "      <td>0.003300</td>\n",
       "      <td>0.005500</td>\n",
       "      <td>0.007500</td>\n",
       "      <td>0.011300</td>\n",
       "      <td>...</td>\n",
       "      <td>0.000000</td>\n",
       "      <td>0.000800</td>\n",
       "      <td>0.000500</td>\n",
       "      <td>0.001000</td>\n",
       "      <td>0.000600</td>\n",
       "      <td>0.000400</td>\n",
       "      <td>0.000300</td>\n",
       "      <td>0.000300</td>\n",
       "      <td>0.000100</td>\n",
       "      <td>0.000600</td>\n",
       "    </tr>\n",
       "    <tr>\n",
       "      <th>25%</th>\n",
       "      <td>0.013300</td>\n",
       "      <td>0.016400</td>\n",
       "      <td>0.018900</td>\n",
       "      <td>0.024450</td>\n",
       "      <td>0.037700</td>\n",
       "      <td>0.066950</td>\n",
       "      <td>0.080600</td>\n",
       "      <td>0.080350</td>\n",
       "      <td>0.096750</td>\n",
       "      <td>0.111150</td>\n",
       "      <td>...</td>\n",
       "      <td>0.008350</td>\n",
       "      <td>0.007350</td>\n",
       "      <td>0.005050</td>\n",
       "      <td>0.005350</td>\n",
       "      <td>0.004100</td>\n",
       "      <td>0.004400</td>\n",
       "      <td>0.003700</td>\n",
       "      <td>0.003600</td>\n",
       "      <td>0.003650</td>\n",
       "      <td>0.003100</td>\n",
       "    </tr>\n",
       "    <tr>\n",
       "      <th>50%</th>\n",
       "      <td>0.022800</td>\n",
       "      <td>0.030800</td>\n",
       "      <td>0.034200</td>\n",
       "      <td>0.044100</td>\n",
       "      <td>0.062000</td>\n",
       "      <td>0.092100</td>\n",
       "      <td>0.105600</td>\n",
       "      <td>0.111900</td>\n",
       "      <td>0.152200</td>\n",
       "      <td>0.181000</td>\n",
       "      <td>...</td>\n",
       "      <td>0.013800</td>\n",
       "      <td>0.011500</td>\n",
       "      <td>0.009600</td>\n",
       "      <td>0.009300</td>\n",
       "      <td>0.007500</td>\n",
       "      <td>0.006800</td>\n",
       "      <td>0.005900</td>\n",
       "      <td>0.005800</td>\n",
       "      <td>0.006300</td>\n",
       "      <td>0.005300</td>\n",
       "    </tr>\n",
       "    <tr>\n",
       "      <th>75%</th>\n",
       "      <td>0.035800</td>\n",
       "      <td>0.048100</td>\n",
       "      <td>0.058200</td>\n",
       "      <td>0.065700</td>\n",
       "      <td>0.101050</td>\n",
       "      <td>0.134150</td>\n",
       "      <td>0.153050</td>\n",
       "      <td>0.169800</td>\n",
       "      <td>0.231500</td>\n",
       "      <td>0.269000</td>\n",
       "      <td>...</td>\n",
       "      <td>0.020700</td>\n",
       "      <td>0.016750</td>\n",
       "      <td>0.014900</td>\n",
       "      <td>0.014450</td>\n",
       "      <td>0.012100</td>\n",
       "      <td>0.010350</td>\n",
       "      <td>0.010350</td>\n",
       "      <td>0.010400</td>\n",
       "      <td>0.010350</td>\n",
       "      <td>0.008550</td>\n",
       "    </tr>\n",
       "    <tr>\n",
       "      <th>max</th>\n",
       "      <td>0.137100</td>\n",
       "      <td>0.233900</td>\n",
       "      <td>0.305900</td>\n",
       "      <td>0.426400</td>\n",
       "      <td>0.401000</td>\n",
       "      <td>0.382300</td>\n",
       "      <td>0.372900</td>\n",
       "      <td>0.459000</td>\n",
       "      <td>0.682800</td>\n",
       "      <td>0.710600</td>\n",
       "      <td>...</td>\n",
       "      <td>0.100400</td>\n",
       "      <td>0.070900</td>\n",
       "      <td>0.039000</td>\n",
       "      <td>0.035200</td>\n",
       "      <td>0.044700</td>\n",
       "      <td>0.039400</td>\n",
       "      <td>0.035500</td>\n",
       "      <td>0.044000</td>\n",
       "      <td>0.036400</td>\n",
       "      <td>0.043900</td>\n",
       "    </tr>\n",
       "  </tbody>\n",
       "</table>\n",
       "<p>8 rows × 60 columns</p>\n",
       "</div>"
      ],
      "text/plain": [
       "           0.0200      0.0371      0.0428      0.0207      0.0954      0.0986  \\\n",
       "count  207.000000  207.000000  207.000000  207.000000  207.000000  207.000000   \n",
       "mean     0.029208    0.038443    0.043837    0.054053    0.075105    0.104599   \n",
       "std      0.023038    0.033040    0.038521    0.046583    0.055669    0.059247   \n",
       "min      0.001500    0.000600    0.001500    0.005800    0.006700    0.010200   \n",
       "25%      0.013300    0.016400    0.018900    0.024450    0.037700    0.066950   \n",
       "50%      0.022800    0.030800    0.034200    0.044100    0.062000    0.092100   \n",
       "75%      0.035800    0.048100    0.058200    0.065700    0.101050    0.134150   \n",
       "max      0.137100    0.233900    0.305900    0.426400    0.401000    0.382300   \n",
       "\n",
       "           0.1539      0.1601      0.3109      0.2111     ...          0.0232  \\\n",
       "count  207.000000  207.000000  207.000000  207.000000     ...      207.000000   \n",
       "mean     0.121591    0.134677    0.177361    0.208245     ...        0.016034   \n",
       "std      0.061897    0.085340    0.118311    0.134741     ...        0.012027   \n",
       "min      0.003300    0.005500    0.007500    0.011300     ...        0.000000   \n",
       "25%      0.080600    0.080350    0.096750    0.111150     ...        0.008350   \n",
       "50%      0.105600    0.111900    0.152200    0.181000     ...        0.013800   \n",
       "75%      0.153050    0.169800    0.231500    0.269000     ...        0.020700   \n",
       "max      0.372900    0.459000    0.682800    0.710600     ...        0.100400   \n",
       "\n",
       "           0.0027      0.0065      0.0159      0.0072      0.0167      0.0180  \\\n",
       "count  207.000000  207.000000  207.000000  207.000000  207.000000  207.000000   \n",
       "mean     0.013472    0.010729    0.010917    0.009300    0.008181    0.007771   \n",
       "std      0.009628    0.007071    0.007310    0.007103    0.005719    0.005756   \n",
       "min      0.000800    0.000500    0.001000    0.000600    0.000400    0.000300   \n",
       "25%      0.007350    0.005050    0.005350    0.004100    0.004400    0.003700   \n",
       "50%      0.011500    0.009600    0.009300    0.007500    0.006800    0.005900   \n",
       "75%      0.016750    0.014900    0.014450    0.012100    0.010350    0.010350   \n",
       "max      0.070900    0.039000    0.035200    0.044700    0.039400    0.035500   \n",
       "\n",
       "           0.0084      0.0090      0.0032  \n",
       "count  207.000000  207.000000  207.000000  \n",
       "mean     0.007947    0.007936    0.006523  \n",
       "std      0.006485    0.006196    0.005038  \n",
       "min      0.000300    0.000100    0.000600  \n",
       "25%      0.003600    0.003650    0.003100  \n",
       "50%      0.005800    0.006300    0.005300  \n",
       "75%      0.010400    0.010350    0.008550  \n",
       "max      0.044000    0.036400    0.043900  \n",
       "\n",
       "[8 rows x 60 columns]"
      ]
     },
     "execution_count": 15,
     "metadata": {},
     "output_type": "execute_result"
    }
   ],
   "source": [
    "# we have 207 rows and 61 columns including target variable\n",
    "df.describe()"
   ]
  },
  {
   "cell_type": "code",
   "execution_count": null,
   "metadata": {},
   "outputs": [],
   "source": [
    "##count=207...all column as 207 so no missing value\n",
    "##mean...\n",
    "##median..\n",
    "##if difference in mena and nedian then skewness\n",
    "##if hugh difference in mean and max value then chance of outlier\n",
    "##here we have 61 columns but all are not being displayed so will cheeck each column separetly for skewness and outliers."
   ]
  },
  {
   "cell_type": "code",
   "execution_count": 14,
   "metadata": {},
   "outputs": [
    {
     "data": {
      "text/plain": [
       "0.0200    0\n",
       "0.0371    0\n",
       "0.0428    0\n",
       "0.0207    0\n",
       "0.0954    0\n",
       "0.0986    0\n",
       "0.1539    0\n",
       "0.1601    0\n",
       "0.3109    0\n",
       "0.2111    0\n",
       "0.1609    0\n",
       "0.1582    0\n",
       "0.2238    0\n",
       "0.0645    0\n",
       "0.0660    0\n",
       "0.2273    0\n",
       "0.3100    0\n",
       "0.2999    0\n",
       "0.5078    0\n",
       "0.4797    0\n",
       "0.5783    0\n",
       "0.5071    0\n",
       "0.4328    0\n",
       "0.5550    0\n",
       "0.6711    0\n",
       "0.6415    0\n",
       "0.7104    0\n",
       "0.8080    0\n",
       "0.6791    0\n",
       "0.3857    0\n",
       "         ..\n",
       "0.2604    0\n",
       "0.5121    0\n",
       "0.7547    0\n",
       "0.8537    0\n",
       "0.8507    0\n",
       "0.6692    0\n",
       "0.6097    0\n",
       "0.4943    0\n",
       "0.2744    0\n",
       "0.0510    0\n",
       "0.2834    0\n",
       "0.2825    0\n",
       "0.4256    0\n",
       "0.2641    0\n",
       "0.1386    0\n",
       "0.1051    0\n",
       "0.1343    0\n",
       "0.0383    0\n",
       "0.0324    0\n",
       "0.0232    0\n",
       "0.0027    0\n",
       "0.0065    0\n",
       "0.0159    0\n",
       "0.0072    0\n",
       "0.0167    0\n",
       "0.0180    0\n",
       "0.0084    0\n",
       "0.0090    0\n",
       "0.0032    0\n",
       "R         0\n",
       "Length: 61, dtype: int64"
      ]
     },
     "execution_count": 14,
     "metadata": {},
     "output_type": "execute_result"
    }
   ],
   "source": [
    "df.isnull().sum()"
   ]
  },
  {
   "cell_type": "code",
   "execution_count": 18,
   "metadata": {},
   "outputs": [
    {
     "data": {
      "image/png": "[encoded data removed]",
      "text/plain": [
       "<Figure size 432x288 with 2 Axes>"
      ]
     },
     "metadata": {
      "needs_background": "light"
     },
     "output_type": "display_data"
    }
   ],
   "source": [
    "sns.heatmap(df.isnull())\n",
    "plt.title(\"null value\")\n",
    "plt.show()"
   ]
  },
  {
   "cell_type": "code",
   "execution_count": 19,
   "metadata": {},
   "outputs": [
    {
     "data": {
      "image/png": "[encoded data removed]",
      "text/plain": [
       "<Figure size 1152x432 with 2 Axes>"
      ]
     },
     "metadata": {
      "needs_background": "light"
     },
     "output_type": "display_data"
    }
   ],
   "source": [
    "##in this plot on x-axis we are not able to see all the columns so it is a problem..so lot column\n",
    "##so icrease the size of plot\n",
    "plt.figure(figsize=[16,6])\n",
    "sns.heatmap(df.isnull())\n",
    "plt.title(\"null value\")\n",
    "plt.show()"
   ]
  },
  {
   "cell_type": "code",
   "execution_count": 20,
   "metadata": {},
   "outputs": [],
   "source": [
    "##EDA very important plot\n",
    "##df[\"class\"].hist(grid=True) # univariante analysis\n",
    "##plt.title(\"Rock vs Mine\")\n",
    "##plt.show()"
   ]
  },
  {
   "cell_type": "code",
   "execution_count": 21,
   "metadata": {},
   "outputs": [],
   "source": [
    "##Class imbalance..if suppose 4 classes\n",
    "##here we don't have any class imbalance problem here\n",
    "##clas is target variable\n",
    "##observation..both class are almost qually distributed and no class imbalance noticed"
   ]
  },
  {
   "cell_type": "code",
   "execution_count": 22,
   "metadata": {},
   "outputs": [],
   "source": [
    "##bivariante analysis\n",
    "##plt.scatter(df[\"V1\"],df[V2],alpha=0.5,c=(0,0,0),edgecolors=\"red\")\n",
    "##plt.title(\"V1 vs V2\")\n",
    "##plt.show()\n",
    "##observation..both having some linear relationship\n"
   ]
  },
  {
   "cell_type": "code",
   "execution_count": 23,
   "metadata": {},
   "outputs": [],
   "source": [
    "##check correlation\n",
    "##corr_mat=df.corr()\n",
    "##corr_mat\n",
    "##sns.heat(corr_mat,anot=True)\n",
    "##plt.title(\"correaltion matrix\")\n",
    "##plt.show()\n",
    "\n",
    "##here we have all teh column but no target variable\n",
    "##becoz our target variable is categorical"
   ]
  },
  {
   "cell_type": "code",
   "execution_count": 24,
   "metadata": {},
   "outputs": [],
   "source": [
    "##so convert the target from categorical type to numerical type\n",
    "##so apply labelencoder..for target we always apply labelencoder\n",
    "##even we covert target varibale we cannot read the value in heatmap..also size cannot further increased"
   ]
  },
  {
   "cell_type": "code",
   "execution_count": 25,
   "metadata": {},
   "outputs": [],
   "source": [
    "##from sklearn.preprocessing import LabelEncoder\n",
    "##le=LabelEncoder()\n",
    "##df[\"class\"]=le.fit_tranform(df[\"class\"])"
   ]
  },
  {
   "cell_type": "code",
   "execution_count": 26,
   "metadata": {},
   "outputs": [],
   "source": [
    "##now again apply\n",
    "##check correlation\n",
    "##corr_mat=df.corr()\n",
    "##corr_mat\n",
    "##sns.heat(corr_mat,anot=True)\n",
    "##plt.title(\"correaltion matrix\")\n",
    "##plt.show()\n",
    "\n"
   ]
  },
  {
   "cell_type": "code",
   "execution_count": 27,
   "metadata": {},
   "outputs": [],
   "source": [
    "##reading the value in heatmap problem\n",
    "##corr_mat=df.corr()\n",
    "##corr_mat[\"class\"].sort_values(ascending=False)\n",
    "##it will tell about correaltion of each variable with class\n"
   ]
  },
  {
   "cell_type": "code",
   "execution_count": 28,
   "metadata": {},
   "outputs": [],
   "source": [
    "##we can always remove the column with very less correaltion but that will be our last option\n"
   ]
  },
  {
   "cell_type": "code",
   "execution_count": 29,
   "metadata": {},
   "outputs": [],
   "source": [
    "##let's check the distribution among all the columns\n",
    "##sp multivariante analysis\n",
    "##plt.plot()\n",
    "##plot.show()"
   ]
  },
  {
   "cell_type": "code",
   "execution_count": 30,
   "metadata": {},
   "outputs": [],
   "source": [
    "##sns.pairplot(df)\n",
    "##plt.show\n",
    "##check for skewness\n",
    "##example of multivariate analysis\n",
    "##check for outliers always before splitting the dataset\n",
    "##why becoz that row get deleted as we remove the outlier so target for that row also must be removed"
   ]
  },
  {
   "cell_type": "code",
   "execution_count": 31,
   "metadata": {},
   "outputs": [],
   "source": [
    "##check for skewness\n",
    "##split the data\n",
    "##x=df.drop(\"class\",axis=1)\n",
    "##y=df.class\n",
    "\n",
    "##rule..check for outlier remove...becoz lot skewness will be removed automatically\n",
    "##then go for skewness"
   ]
  },
  {
   "cell_type": "code",
   "execution_count": 32,
   "metadata": {},
   "outputs": [],
   "source": [
    "##x.skew()\n",
    "##skewness greater than 0.5 is high"
   ]
  },
  {
   "cell_type": "code",
   "execution_count": 33,
   "metadata": {},
   "outputs": [],
   "source": [
    "##from  sklearn.preprocessing import power_transform\n",
    "##df_new=power_transform(x)\n",
    "##df_new=pd.DataFrame(df_new,columns=df.columns)\n",
    "##it will remove the skewness for all the column"
   ]
  },
  {
   "cell_type": "code",
   "execution_count": 34,
   "metadata": {},
   "outputs": [],
   "source": [
    "##checking outliers all the column together\n",
    "##x.boxplot(figsize=[20,8]\n",
    "##plt.subplots_adjust(botton=.25)\n",
    "##plt.show()"
   ]
  },
  {
   "cell_type": "code",
   "execution_count": 35,
   "metadata": {},
   "outputs": [],
   "source": [
    "##other methdo boxplot for suppose 100 columns..so we split\n",
    "##first 30\n",
    "##x.iloc[:,0:30].boxplot(figsize=[20,8]\n",
    "##plt.subplots_adjust(botton=.25)\n",
    "##plt.show()"
   ]
  },
  {
   "cell_type": "code",
   "execution_count": 36,
   "metadata": {},
   "outputs": [],
   "source": [
    "##last 30\n",
    "##x.iloc[:,30:].boxplot(figsize=[20,8]\n",
    "##plt.subplots_adjust(botton=.25)\n",
    "##plt.show()"
   ]
  },
  {
   "cell_type": "code",
   "execution_count": 1,
   "metadata": {},
   "outputs": [],
   "source": [
    "##we have not removed the outlier in the dataset\n",
    "##becoz if we see outlier very close to the whisker then we avoid removing the outlier as not impacting the mean much.\n",
    "\n",
    "##obeservation..we can see one or two values for total 3 columns as outliers of whiskers but they are very near to the whiskers\n",
    "##so they are not outliers"
   ]
  },
  {
   "cell_type": "code",
   "execution_count": 3,
   "metadata": {},
   "outputs": [],
   "source": [
    "##finding the best random variable\n",
    "##from sklearn.linear_model import LogisticRegression\n",
    "##Maxaccu=0\n",
    "##Rs=0\n",
    "##for i in range(1,200):\n",
    "##    xtrain,ytrain,xtest,ytest=train_test_split(x,y,test_size=.30,random_state=i)\n",
    "##    lr=LogisticRegression()\n",
    "##    lr.fit(xtrain,ytrain)\n",
    "##    pred=lr.predict(xtest)\n",
    "##    accu=accuracy_score(pred,ytest)\n",
    "##    if accu>Maxaccu:\n",
    "##        Maxaccu=accu\n",
    "##        Rs=i\n",
    "##print\"(with random state as\",Rs,\"max accuracy is\",Maxaccu)"
   ]
  },
  {
   "cell_type": "code",
   "execution_count": 4,
   "metadata": {},
   "outputs": [],
   "source": [
    "##now training the model with random state as 137\n",
    "##xtrain,ytrain,xtest,ytest=train_test_split(x,y,test_size=.30,random_state=120)\n",
    "##lr=LogisticRegression()\n",
    "##lr.fit(xtrain,ytrain)\n",
    "##pred=lr.predict(xtest)\n",
    "##accu=accuracy_score(pred,ytest)\n",
    "##confusion_matrix(pred,ytest)\n",
    "##classification_report(pred,ytest)\n",
    "##print(accu)"
   ]
  },
  {
   "cell_type": "code",
   "execution_count": 5,
   "metadata": {},
   "outputs": [],
   "source": [
    "##from sklearn.tree import DecisionTreeClassifier\n",
    "##dtc=DecisionTreeClassifier()\n",
    "##dtc.fit(xtrain,ytrain)\n",
    "##pred=dtc.predict(xtest)\n",
    "##accu=accuracy_score(pred,ytest)\n",
    "##confusion_matrix(pred,ytest)\n",
    "##classification_report(pred,ytest)\n",
    "##print(accu)"
   ]
  },
  {
   "cell_type": "code",
   "execution_count": 6,
   "metadata": {},
   "outputs": [],
   "source": [
    "##from sklearn.ensemble import RandomForestClassifier\n",
    "##rfc=RandomForestClassifier()\n",
    "##c.fit(xtrain,ytrain)\n",
    "##pred=dtc.predict(xtest)\n",
    "##accu=accuracy_score(pred,ytest)\n",
    "##confusion_matrix(pred,ytest)\n",
    "##classification_report(pred,ytest)\n",
    "##print(accu)"
   ]
  },
  {
   "cell_type": "code",
   "execution_count": 7,
   "metadata": {},
   "outputs": [],
   "source": [
    "##from sklearn.svm import SVC\n",
    "##svc=SVC()\n",
    "##svc.fit(xtrain,ytrain)\n",
    "##pred=svc.predict(xtest)\n",
    "##accu=accuracy_score(pred,ytest)\n",
    "##confusion_matrix(pred,ytest)\n",
    "##classification_report(pred,ytest)\n",
    "##print(accu)"
   ]
  },
  {
   "cell_type": "code",
   "execution_count": 8,
   "metadata": {},
   "outputs": [],
   "source": [
    "##we cannot rely on accuracy score it may due to overfitting so we use cross validation\n",
    "##from sklearn.model_selection import cross_val_score\n",
    "##model=[lr,dtc,rfc,svc]\n",
    "##for model in model:\n",
    "##    score=cross_val_score(model,x,y,cv=5)    \n",
    "##    print(score.mean())"
   ]
  },
  {
   "cell_type": "code",
   "execution_count": 9,
   "metadata": {},
   "outputs": [],
   "source": [
    "##minimum difference between accuracy_score and cross_val_score is for decision tree classifier\n"
   ]
  },
  {
   "cell_type": "code",
   "execution_count": 10,
   "metadata": {},
   "outputs": [],
   "source": [
    "##hyper parameter tuning\n",
    "##from sklearn.model_selection import GridSearchCV\n",
    "##parameter={\"max_depth\":np.arange(2,15),\"criterion\":[\"gini\",\"entropy\"]}\n",
    "##grid=GrisSearchCV(estimator=dtc,param_grid=parameter,cv=5)\n",
    "##grid.fit(xtrain,ytrain)\n",
    "##grid.best_score_\n",
    "##grid.best_params_"
   ]
  },
  {
   "cell_type": "code",
   "execution_count": 11,
   "metadata": {},
   "outputs": [],
   "source": [
    "##finaldtc=dtc(entropy=\"gini\",max_depth=4,random_state=137)\n",
    "##finaldtc.fit(xtrain,ytrain)\n",
    "##pred=finaldtc.predict(xtest)\n",
    "##accuracy_score(pred,ytest)\n",
    "##classification_report(pred,ytest)\n",
    "##confusion_matrix(pred,ytest)\n"
   ]
  },
  {
   "cell_type": "code",
   "execution_count": 12,
   "metadata": {},
   "outputs": [],
   "source": [
    "##Saving the model\n",
    "##import joblib\n",
    "##joblib.dump(finaldtc,\"rev_finadtc.obj\")"
   ]
  },
  {
   "cell_type": "code",
   "execution_count": 13,
   "metadata": {},
   "outputs": [],
   "source": [
    "##Loading the file\n",
    "##model=joblib.load(\"rev_finaltc.obj\")\n",
    "##prediction=model.predict(xtest)\n",
    "##accuracy_score(prediction,ytest)*100\n",
    "##classification_report(prediction,ytest)\n",
    "##confusion_matrix(prediction,ytest)"
   ]
  },
  {
   "cell_type": "code",
   "execution_count": null,
   "metadata": {},
   "outputs": [],
   "source": [
    "##prediction=pd.DataFrame(prediction)...converting into datafroame\n",
    "##prediction.to_csv(\"\"rev_finadtc_predict.csv\")...saving the prediction"
   ]
  }
 ],
 "metadata": {
  "kernelspec": {
   "display_name": "Python 3",
   "language": "python",
   "name": "python3"
  },
  "language_info": {
   "codemirror_mode": {
    "name": "ipython",
    "version": 3
   },
   "file_extension": ".py",
   "mimetype": "text/x-python",
   "name": "python",
   "nbconvert_exporter": "python",
   "pygments_lexer": "ipython3",
   "version": "3.7.0"
  }
 },
 "nbformat": 4,
 "nbformat_minor": 2
}
