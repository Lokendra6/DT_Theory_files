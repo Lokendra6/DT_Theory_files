{
 "cells": [
  {
   "cell_type": "code",
   "execution_count": 20,
   "metadata": {},
   "outputs": [],
   "source": [
    "#Video 1...Introduction and history of Deep Learning\n",
    "\n",
    "#Deep Learning  subset of Machine Learning which in turn is a subset of AI.\n",
    "\n",
    "#Idea of Deep Learning started in 1984....idea of perceptron inspired by neuron..neuron basic building block of brain"
   ]
  },
  {
   "cell_type": "code",
   "execution_count": 21,
   "metadata": {},
   "outputs": [],
   "source": [
    "#First step summation...We give weights to input and some input may have more weight as they may be more important\n",
    "#Xnet-x1w1+x2w2+x3w3 (x1,x2,x3 are input) (w1,w2,w3 are weights)\n",
    "\n",
    "#Second step is activation function....give us the output\n",
    "\n",
    "#Third Step Output is y\n",
    "\n",
    "#structure of perceptron"
   ]
  },
  {
   "cell_type": "code",
   "execution_count": 22,
   "metadata": {},
   "outputs": [],
   "source": [
    "#Problem with perceptron or Node\n",
    "# 1. It has single perceptron or Node or neuron\n",
    "# 2. No learning\n"
   ]
  },
  {
   "cell_type": "code",
   "execution_count": 23,
   "metadata": {},
   "outputs": [],
   "source": [
    "# In 1980,So next big invention MLP (Multi layer perceptron)\n",
    "\n",
    "#Structure of MLP\n",
    "#Input Layer\n",
    "#Hidden Layer or Nodes or perceptron\n",
    "#Output Layer\n",
    "\n",
    "#Hidden layer ..perceptron stacked one above the other in a row"
   ]
  },
  {
   "cell_type": "code",
   "execution_count": 24,
   "metadata": {},
   "outputs": [],
   "source": [
    "#due to less computational power our computers were not capable to prove in practical and also due to less of data"
   ]
  },
  {
   "cell_type": "code",
   "execution_count": 25,
   "metadata": {},
   "outputs": [],
   "source": [
    "#In 2012...also known as modern era..we have high computational power and huge data"
   ]
  },
  {
   "cell_type": "code",
   "execution_count": 26,
   "metadata": {},
   "outputs": [],
   "source": [
    "#Video-2.... structure of neuron and MLP\n",
    "#Bias and weighs are trainable parameter as they will keep on changing while we are training \n",
    "#so that model finally understand which input is how much important \n",
    "#as weigts can be controlled not inputs\n",
    "#weight called trainable or learnable\n",
    "#weights n bias are unique\n",
    "\n",
    "#As this process is moving forward called forward feed\n",
    "\n",
    "#first part they get summed up\n",
    "#then they have activation function\n",
    "#get the outputs which act as input for nodes in next layer\n",
    "#all weight saved as metrices where first dimension equal to no of input and second no of output.\n"
   ]
  },
  {
   "cell_type": "code",
   "execution_count": 27,
   "metadata": {},
   "outputs": [],
   "source": [
    "#video 3....Optimisers-Gradient Descent.\n",
    "\n",
    "#we have to adjust weights and bias so that predicted value is close to actual value\n",
    "#diffrence between predicted value actual value is loss.\n",
    "#We want low loss so we use optimization technique\n",
    "#we have to optimize weight and bias to have minimum loss\n",
    "\n",
    "#Gradient descent is a basic optimizer\n",
    "#W(new)=W(old)-dl/dw...differentiation of loss/differentiation of weight\n",
    "\n",
    "#magnitude of descent is called learning\n"
   ]
  },
  {
   "cell_type": "code",
   "execution_count": 28,
   "metadata": {},
   "outputs": [],
   "source": [
    "#video 4...Back propagation\n",
    "#known as chain rule of differentiation\n",
    "# Together forward and backward propagation known as 1 epoch\n",
    "#this epoch are done one after the other so that we reach ideal model where we have minimum loss\n",
    "# many epoch lead to training of model"
   ]
  },
  {
   "cell_type": "code",
   "execution_count": 29,
   "metadata": {},
   "outputs": [],
   "source": [
    "#video 5...Activation functions in depth.\n",
    "\n",
    "#Sigmoid function a=1/1+exp(-z)...it lie between 0 to 1...useful in classification..logisctic regression\n",
    "#Derivative of sigmoid function...is a(1-a)"
   ]
  },
  {
   "cell_type": "code",
   "execution_count": 30,
   "metadata": {},
   "outputs": [],
   "source": [
    "#tanh Function\n",
    "# a=e^z - e^-z/e^z + e^-z....tanh lie between -1 to 1\n",
    "#Derivate is 1-a^2.."
   ]
  },
  {
   "cell_type": "code",
   "execution_count": 31,
   "metadata": {},
   "outputs": [],
   "source": [
    "#ReLU Function..Rectified Linear Units\n",
    "#Sigmoid n Tanh has lot of calculation so RelU\n",
    "# a= max(0,Z)\n",
    "#so RelU has problem becuase derivative of postive number will be positive but negative number will be zero\n",
    "\n",
    "#Problems with LeRU\n",
    "#Dying Neurons..every time we have a summation(z) value greater than zero we can always get one..so while differentiation\n",
    "#we will get one but for case z less than zero we get differentiation zero...so we don't get new weights so this problem is called\n",
    "#dying neuron problem\n"
   ]
  },
  {
   "cell_type": "code",
   "execution_count": 32,
   "metadata": {},
   "outputs": [],
   "source": [
    "#Problem with Sigmoid ...give value between 0 to 1 and lot of calculation\n",
    "#Problem with Tanh..lot of calculation"
   ]
  },
  {
   "cell_type": "code",
   "execution_count": 33,
   "metadata": {},
   "outputs": [],
   "source": [
    "#To overcome dying neuron problem..Leaky ReLu \n",
    "#Fucntion of Leaky ReLU a=max(0.01z,z)\n",
    "#Derivative..0.01 if z<0 and z if z>=0"
   ]
  },
  {
   "cell_type": "code",
   "execution_count": 34,
   "metadata": {},
   "outputs": [],
   "source": [
    "#in leaky ReLu we were taking 0.01 but why.... so parameterized RELU\n",
    "#Parameterized ReLU\n",
    "# a=max(alphaZ,Z)..where alpha can be any number trained by the model..if model decide alpha is 0.01 so it is 0.01\n",
    "#Model decide what is the best number to multiply z with\n",
    "#Derivate..alpha if z<0 and 1 if z>=0"
   ]
  },
  {
   "cell_type": "code",
   "execution_count": 35,
   "metadata": {},
   "outputs": [],
   "source": [
    "#ELU....Exponential ReLU\n",
    "# function is alpha(e^z-1) if z<0 and z if z>0\n",
    "#Derivate......alpha(e^z) for z<0 and 1 for z>=0\n",
    "\n",
    "#One problem that ReLU always had is that it is not differentiable at zero..so we don't know what the value will be at zero"
   ]
  },
  {
   "cell_type": "code",
   "execution_count": 36,
   "metadata": {},
   "outputs": [],
   "source": [
    "#Swish function...paper released by google researcher\n",
    "# bring the good version of ReLU and sigmoid together to form swish\n",
    "# a=z*sigmoid(z)\n",
    "#derivate will be sigmoid (z) + z*sigmoid(z)(1-sigmoid(z))\n",
    "\n",
    "#in swish function 0 is differentiable so we get value at zero as well\n",
    "#In imagenet task gave extra 1% of accuracy"
   ]
  },
  {
   "cell_type": "code",
   "execution_count": 37,
   "metadata": {},
   "outputs": [],
   "source": [
    "#Softmax Activation Function\n",
    "#Used lot for multiclass classification\n",
    "#Formula for activation softmax function..a=e^z/summation of e^z...lie between -1 and 1"
   ]
  },
  {
   "cell_type": "code",
   "execution_count": 38,
   "metadata": {},
   "outputs": [],
   "source": [
    "#Video 6..Where to use which activation.\n",
    "# Promblems with activation function\n",
    "\n",
    "#Sigmoid function between 0 to 1 so less focus when negative value..another problem hard to compute\n",
    "#Tanh..give  value from -1 to 1 ... problem..hard to compute\n",
    "#another from is Vanishing Gradient....\n",
    "#In back propagation..we have sigmoid value value as 0.1 ..so suppose we have 3 ouput in backpropagation so .1*.1*.1=.001\n",
    "#we then use it...out etta is 0.1 so w(new)=w(old)-etta*.0001\n",
    "#suppose etta is also..0.1...so w(new) will be very similar to w(old)\n",
    "#Due to this the gradient we r calculating r so small that multiplying one wth other will result actual value vanishing.\n",
    "#If w(new) very close to w(old) then we will never rech to lowest minima.\n",
    "#So this is problem we had with sigmoid and tanh so RiLU was introduced."
   ]
  },
  {
   "cell_type": "code",
   "execution_count": 39,
   "metadata": {},
   "outputs": [],
   "source": [
    "#so problem with RiLU...dying RiLU problem...\n",
    "# RiLU activation function a= max(0,Z)\n",
    "#so RelU has problem becuase derivative of postive number will be positive but negative number will be zero.\n",
    "# so IF value greater than zero always get differentiation as 1\n",
    "#if value less than zero then differentiation is zero...so dl/dw=0\n",
    "#so w(new)=w(old)-etta*0\n",
    "# w(new)=w(old)\n",
    "#to overcome thsi problem we have parameterized RiLU and LeaKY RiLu"
   ]
  },
  {
   "cell_type": "code",
   "execution_count": 40,
   "metadata": {},
   "outputs": [],
   "source": [
    "# Another problem with RiLU ..as it is not continous function so while differentiating not able to differentiable at zero\n",
    "#So swiss function to overcome this problem\n",
    "#Swiss function was very simple thing a=z*sigmoid(z)\n",
    "#it took best of both ReLU and sigmoid \n",
    "#In imagenet task gave extra 1% of accuracy"
   ]
  },
  {
   "cell_type": "code",
   "execution_count": 41,
   "metadata": {},
   "outputs": [],
   "source": [
    "# So where to use which function\n",
    "\n",
    "#Sigmoid and Tanh should avoided because of vanishing gradient\n",
    "\n",
    "#Can use RiLU for most problems..versitle..Mostly used in hidden layers so do not use RiLU in input or output layer\n",
    "#if RiLU does not work then Leaky RiLU and parameterized RiLU\n",
    "# Softmax or Sigmoid mostly preferred in classification problems."
   ]
  },
  {
   "cell_type": "code",
   "execution_count": 42,
   "metadata": {},
   "outputs": [],
   "source": [
    "#Video 7..Optimisers\n",
    "#Gradient Descent optimiser of 3 types\n",
    "#Batch Gradient Descent...Mini Batch dradient Descent...Stochastic Gradient Descent\n",
    "#formula for all three w(new)=w(old)-Etta(dL/dw)"
   ]
  },
  {
   "cell_type": "code",
   "execution_count": 43,
   "metadata": {},
   "outputs": [],
   "source": [
    "#Batch Gradient descent\n",
    "#It calculate the dL/dw for all the datapoints..suppose suppose 10000 data points.\n",
    "#after calculating it ..it averages it out and updates the weight\n",
    "#Problem...it calculate gradient descent for all datapoints it become very slow\n",
    "\n",
    "#Mini Batch gradient Descent\n",
    "#To overcome the problem of batch gradient descent\n",
    "#As the name suggest it will not use entire datapoint but differentiation will be in mini batch\n",
    "#suppose 100 data points so differentiation of 100 datapoints so it will randomly select the 100 datapoints and will\n",
    "#calculate the differentiation of 100 datapoints and will update the weight.\n",
    "\n",
    "#Stochastic Gradient Descent\n",
    "#It randomly select 1 datapoint,differentiation of 1 datapoint and updates the weight on basis of that.\n",
    "#take very long time to achieve minima\n",
    "\n",
    "#Mini Batch gradient descent most used gradient descent among the three\n"
   ]
  },
  {
   "cell_type": "code",
   "execution_count": 44,
   "metadata": {},
   "outputs": [],
   "source": [
    "#To avoid so many data points and reduce time with out being haphazard so we use Stochastic Gradient Descent with momentum\n",
    "#Or Mini Batch gradient Descent with Momentum\n",
    "\n",
    "#Moementum means giving weightage to previous gradient descent so that next gradient descent is not haphazard as previous one\n",
    "#Gamma always between 0 to 1"
   ]
  },
  {
   "cell_type": "code",
   "execution_count": 45,
   "metadata": {},
   "outputs": [],
   "source": [
    "#Video 8..Optimisers\n",
    "#Adagrad Optimiser\n",
    "#Main idea behind Adagrad was to change the learning rate instead of gradient descent\n",
    "#so change the learning rate with each epoch or iteration\n",
    "#So initally in graident descent to achive minima taek larger step and as we approach the minima take smaller steps\n",
    "#this tranformation from larger step to smaller step will be with each iteration by changing the learning rate.\n",
    "\n",
    "#Problem with Adagrad..Etta was decreasing very quickly as summation of gradient is squared so if 1 gradient (i=1) so it is small\n",
    "#but as gradient step increases so summation of square increases which is in denominator so Etta(dash) decrases quickly\n",
    "# w(t)=w(t-1)-Etta(dash)g(t)\n",
    "#Etta(dash)=Etta/sqrt(alpha(t-1)+epsilon)\n",
    "\n",
    "#alpha(t-1)=summation of all gradient square from i=1 to i=t-1\n",
    "\n",
    "#For every new iteration which bring closer to minimum loss Etta(dash) decreases\n",
    "#Etta(dash) decrease very quickly so there might be a time when Etta(dash) will be very close to zero so w(t) very close to w(t-1)\n",
    "# so weights will be very similar so no update in weight so might not reach to minimum loss.\n"
   ]
  },
  {
   "cell_type": "code",
   "execution_count": 46,
   "metadata": {},
   "outputs": [],
   "source": [
    "# to overcome the procome Adagrad we have AdaDelta\n",
    "#AdaDelta optimisers\n",
    "# Idea is same but tries to solve the problem of fast decreasing in learning rate\n",
    "# w(t)=w(t-1)-Etta(dash)g(t)\n",
    "# Etta(dash)=Etta/sqrt(eda(t-1)+epsilon)\n",
    "\n",
    "#eda(t-1) = gamma*eda(t-2) + (1-gamma)*(g(t-1))^2\n",
    "#eda=exponential decaying average\n",
    "#so denominator will not increase very fast so Etta(dash) will not decrease very fast"
   ]
  },
  {
   "cell_type": "code",
   "execution_count": 47,
   "metadata": {},
   "outputs": [],
   "source": [
    "#Adam (Adaptive Moment Estimation) Optimiser\n",
    "#Most Commonly used optimiser\n",
    "#Adam came up with was along with using gradient squares will use gradients..so eda of gradient square and gradient\n",
    "# m(t)=beta1*m(t-1) + (1-Beta)*g(t)\n",
    "#it kind of eda or momentum term for m(t)\n",
    "#Adam proven to be very good method"
   ]
  },
  {
   "cell_type": "code",
   "execution_count": 48,
   "metadata": {},
   "outputs": [],
   "source": [
    "#when to which which optimiser\n",
    "# if spare data like data from bag of words...go for Ada function..most likely Adam\n",
    "\n",
    "#General Rules\n",
    "#Adam most commonly used\n",
    "#if spare data like data from bag of words...go for Ada function.Adagrad..AdaDelta or Adam....most likely Adam for spare data\n"
   ]
  },
  {
   "cell_type": "code",
   "execution_count": 49,
   "metadata": {},
   "outputs": [],
   "source": [
    "#Video 9..Weight Initialisers\n",
    "#Weights were randomly assigned but from a distribution\n",
    "#Weight should neither be too small nor too big..becoz..if differentiation is too small so weight won't get updated\n",
    "#that is vanishing gradient problem when weight is too small\n",
    "#if weight too big we come across a problem of gradient explosion or exploding gradient\n",
    "#So we need to clip this weights that is keep them in certain range so for that we need distribution\n",
    "#we use weight from the distribution.\n",
    "\n",
    "#Weight Should not be equal becoz if weights are equal then new weight will also be same so it is difficult to define which\n",
    "#input must be given more weightage.\n",
    "# Fan  in number of input\n",
    "# Fan out number of output"
   ]
  },
  {
   "cell_type": "code",
   "execution_count": 50,
   "metadata": {},
   "outputs": [],
   "source": [
    "#NormalDistribution...Normal Initialization..all the weights of this format will be intialized from normal initialization N(0,Sigma)\n",
    "#Centre at zero to give enough weightage to negative weights so this is not at all related in any way to output we are getting.\n",
    "\n",
    "#Uniform Distribution...Uniform Initialization...Weights will be initialized from a uniform distribution which lie between -1/sqrt(fanin) to 1/sqrt(fanin)\n",
    "#here distribution is uniform\n",
    "\n",
    "#Xavier/Glorot Initialization for Normal distribution\n",
    "#Two different type of initialization..weight lie between Normal distribution...N(0,Sigma)....Sigma=2/fanin+fanout\n",
    "#Here for first time input and output is considered that fanin n fanout\n",
    "\n",
    "#Xavier/Glorat Initialization from uniform distribiution\n",
    "#here weights  are randomly  intialized from uniform distribution which lie between -sqrt(6)/sqrt(fanin+fanout) , +sqrt(6)/sqrt(fanin+fanout)\n",
    "\n",
    "#He Initialization ...named after resercher\n",
    "#two type\n",
    "#Normal one and unuform one\n",
    "#Normal one.weights randomly intialized from normal initialization for.N(0,Sigma)...Sigma=sqrt(2/fanin)\n",
    "#uniform one...-sqrt(6/fanin) , +sqrt(6/fanout)"
   ]
  },
  {
   "cell_type": "code",
   "execution_count": 51,
   "metadata": {},
   "outputs": [],
   "source": [
    "#Normal and uniform distribution totally deoend on what type of function we are using\n",
    "# He intialization...usually used with activation function like ReLU, Leaky ReLU or any other type of ReLU\n",
    "# Xavier or Glorot Initialization usually used for sigmoid activation\n"
   ]
  },
  {
   "cell_type": "code",
   "execution_count": 52,
   "metadata": {},
   "outputs": [],
   "source": [
    "#Video 10...Losses in Neural networks.\n",
    "#Different Loss function of neural networks\n",
    "#Regression Problem n Classification Problem\n",
    "#Classification Problem two type..binary n multiclass"
   ]
  },
  {
   "cell_type": "code",
   "execution_count": 53,
   "metadata": {},
   "outputs": [],
   "source": [
    "#Regression Losses..\n",
    "#Mean Squared Error...for i=1 to N..Mean of (y(i)-yhat(i))^2...i is datapoint\n",
    "#MSE is weak when it comes to finding outlier..because error is squared..so actual loss is skewed\n",
    "\n",
    "#Mean Absolute Error..L1 Loss..for i=1 to N...Absolute(y(i)-yhat(i))/N\n",
    "#MAE is good at finding outlier..find absolute difference but very small errors will not allow model to learn\n",
    "\n",
    "#Huber Loss..combination of MSE n MAE\n",
    "#Huber Loss..1/2(y(i)-yhat(i))^2 when mode of (y(i)-yhat(i))<=Delta\n",
    "#Otherwise Delta times mode of (y(i)-yhat(i)) - (Delta)^2/2\n",
    "#Problem of Huber loss is deciding value of Delta which is a daunting task so it is not much in use\n",
    "\n",
    "#log cosh...good function not used much\n",
    "# log(cosh(y(i)-yhat(i))\n",
    "#for very small error..this function behaves like squared function small(y-yhat)=(y(i)-yhat(i))^2/2\n",
    "#for large value of error...Absolute(y(i)-yhat(i))-log(2)\n",
    "\n",
    "#Root Mean Squre Error is L2 loss"
   ]
  },
  {
   "cell_type": "code",
   "execution_count": 54,
   "metadata": {},
   "outputs": [],
   "source": [
    "#Classification Losses\n",
    "\n",
    "#Binary Classification loss\n",
    "#Binary Cross Entropy..label are 0 n 1\n",
    "#BCE=-1/N(Summation  from 1 to N for ylog(yhat) + (1-y)log(1-yhat))..basically calculating the mean value of all the labels\n",
    "#entropy=ylog(y)\n",
    "#Cross entropy=ylog(yhat)\n",
    "\n",
    "#Hinge Loss..labels are -1 n 1\n",
    "# max(0,1-yhat*y)"
   ]
  },
  {
   "cell_type": "code",
   "execution_count": 55,
   "metadata": {},
   "outputs": [],
   "source": [
    "#MultiClass Classification Loss\n",
    "#Categorical cross entrophy is   summation of i from 1 to c(no of classes) ylog(yhat)\n",
    "\n",
    "#KL Divergence..used when we have 2 very different distribution or 2 different proability like\n",
    "#uniform distribution and binomial distribution\n",
    "#so we need to find out how different is each distribution from the other\n",
    "#KL diverhence used in generative model\n",
    "#we have other divergence as JS divergence,earth movers divergence,variational auto encoder(VAE),GAN basically used for deep fixed"
   ]
  },
  {
   "cell_type": "code",
   "execution_count": 56,
   "metadata": {},
   "outputs": [],
   "source": [
    "#Video 11 Handwritten number recognition using Keras part 1\n",
    "#Maulti Layer Perceptron\n",
    "#Coding a multilayer perceptron\n",
    "# 3 main framework for coding in deeplearning\n",
    "# it is not easy for us to write code for every thing like.losses,activation function,weight intialization so\n",
    "#this framework make it easy for us to code we dont have to write each and everything\n",
    "#3 main framework..Tensorflow..Keras..Pytorch\n",
    "#Pytorch most relatively new released by facebook"
   ]
  },
  {
   "cell_type": "code",
   "execution_count": 57,
   "metadata": {},
   "outputs": [],
   "source": [
    "#difference between Keras and Tensorflow\n",
    "\n",
    "#Tensorflow..Low level framework(write more code)..NotBegineerfriendly.. or Userfriendly..second most used..debugging not soeasy\n",
    "#Tensorflow is faster build on C n C++  n they r faster...\n",
    "#Tensorflow is flexible..so making change in code is easy\n",
    "\n",
    "#Keras..high level framework(write leaa code.)..Begineerfriendly...Userfriendly..Most used framework..Easy to debug\n",
    "#Keras build on python so slow\n",
    "#Keras not so flexible..making change in code is not so easy\n",
    "\n"
   ]
  },
  {
   "cell_type": "code",
   "execution_count": null,
   "metadata": {},
   "outputs": [
    {
     "name": "stdout",
     "output_type": "stream",
     "text": [
      "Requirement already satisfied: pip in c:\\users\\priyanka\\appdata\\roaming\\python\\python37\\site-packages (21.2.4)\n"
     ]
    },
    {
     "name": "stderr",
     "output_type": "stream",
     "text": [
      "WARNING: Ignoring invalid distribution -umpy (c:\\python 2\\lib\\site-packages)\n",
      "WARNING: Ignoring invalid distribution -andas (c:\\python 2\\lib\\site-packages)\n",
      "WARNING: Ignoring invalid distribution -umpy (c:\\python 2\\lib\\site-packages)\n",
      "WARNING: Ignoring invalid distribution -andas (c:\\python 2\\lib\\site-packages)\n",
      "WARNING: Ignoring invalid distribution -umpy (c:\\python 2\\lib\\site-packages)\n",
      "WARNING: Ignoring invalid distribution -andas (c:\\python 2\\lib\\site-packages)\n",
      "WARNING: Ignoring invalid distribution -umpy (c:\\python 2\\lib\\site-packages)\n",
      "WARNING: Ignoring invalid distribution -andas (c:\\python 2\\lib\\site-packages)\n"
     ]
    },
    {
     "name": "stdout",
     "output_type": "stream",
     "text": [
      "Requirement already satisfied: keras in c:\\python 2\\lib\\site-packages (2.6.0)\n"
     ]
    },
    {
     "name": "stderr",
     "output_type": "stream",
     "text": [
      "WARNING: Ignoring invalid distribution -umpy (c:\\python 2\\lib\\site-packages)\n",
      "WARNING: Ignoring invalid distribution -andas (c:\\python 2\\lib\\site-packages)\n",
      "WARNING: Ignoring invalid distribution -umpy (c:\\python 2\\lib\\site-packages)\n",
      "WARNING: Ignoring invalid distribution -andas (c:\\python 2\\lib\\site-packages)\n",
      "WARNING: Ignoring invalid distribution -umpy (c:\\python 2\\lib\\site-packages)\n",
      "WARNING: Ignoring invalid distribution -andas (c:\\python 2\\lib\\site-packages)\n",
      "WARNING: Ignoring invalid distribution -umpy (c:\\python 2\\lib\\site-packages)\n",
      "WARNING: Ignoring invalid distribution -andas (c:\\python 2\\lib\\site-packages)\n"
     ]
    },
    {
     "name": "stdout",
     "output_type": "stream",
     "text": [
      "Collecting tensorflow\n",
      "  Using cached tensorflow-2.6.0-cp37-cp37m-win_amd64.whl (423.2 MB)\n",
      "Collecting opt-einsum~=3.3.0\n",
      "  Using cached opt_einsum-3.3.0-py3-none-any.whl (65 kB)\n",
      "Requirement already satisfied: wheel~=0.35 in c:\\python 2\\lib\\site-packages (from tensorflow) (0.37.0)\n",
      "Collecting tensorflow-estimator~=2.6\n",
      "  Using cached tensorflow_estimator-2.6.0-py2.py3-none-any.whl (462 kB)\n",
      "Collecting google-pasta~=0.2\n",
      "  Using cached google_pasta-0.2.0-py3-none-any.whl (57 kB)\n",
      "Collecting keras-preprocessing~=1.1.2\n",
      "  Using cached Keras_Preprocessing-1.1.2-py2.py3-none-any.whl (42 kB)\n",
      "Collecting gast==0.4.0\n",
      "  Using cached gast-0.4.0-py3-none-any.whl (9.8 kB)\n",
      "Collecting astunparse~=1.6.3\n",
      "  Using cached astunparse-1.6.3-py2.py3-none-any.whl (12 kB)\n",
      "Requirement already satisfied: grpcio<2.0,>=1.37.0 in c:\\python 2\\lib\\site-packages (from tensorflow) (1.39.0)\n",
      "Collecting wrapt~=1.12.1\n",
      "  Using cached wrapt-1.12.1-py3-none-any.whl\n",
      "Requirement already satisfied: keras~=2.6 in c:\\python 2\\lib\\site-packages (from tensorflow) (2.6.0)\n",
      "Collecting termcolor~=1.1.0\n",
      "  Using cached termcolor-1.1.0-py3-none-any.whl\n",
      "Collecting h5py~=3.1.0\n",
      "  Using cached h5py-3.1.0-cp37-cp37m-win_amd64.whl (2.7 MB)\n",
      "Collecting clang~=5.0\n",
      "  Using cached clang-5.0-py3-none-any.whl\n",
      "Requirement already satisfied: typing-extensions~=3.7.4 in c:\\python 2\\lib\\site-packages (from tensorflow) (3.7.4.3)\n",
      "Requirement already satisfied: numpy~=1.19.2 in c:\\python 2\\lib\\site-packages (from tensorflow) (1.19.5)\n",
      "Collecting flatbuffers~=1.12.0\n",
      "  Using cached flatbuffers-1.12-py2.py3-none-any.whl (15 kB)\n",
      "Requirement already satisfied: protobuf>=3.9.2 in c:\\python 2\\lib\\site-packages (from tensorflow) (3.17.3)\n",
      "Requirement already satisfied: absl-py~=0.10 in c:\\python 2\\lib\\site-packages (from tensorflow) (0.13.0)\n",
      "Requirement already satisfied: six~=1.15.0 in c:\\python 2\\lib\\site-packages (from tensorflow) (1.15.0)\n",
      "Collecting tensorboard~=2.6\n",
      "  Using cached tensorboard-2.6.0-py3-none-any.whl (5.6 MB)\n",
      "Requirement already satisfied: cached-property in c:\\python 2\\lib\\site-packages (from h5py~=3.1.0->tensorflow) (1.5.2)\n",
      "Requirement already satisfied: tensorboard-plugin-wit>=1.6.0 in c:\\python 2\\lib\\site-packages (from tensorboard~=2.6->tensorflow) (1.8.0)\n",
      "Requirement already satisfied: setuptools>=41.0.0 in c:\\python 2\\lib\\site-packages (from tensorboard~=2.6->tensorflow) (57.4.0)\n",
      "Requirement already satisfied: markdown>=2.6.8 in c:\\python 2\\lib\\site-packages (from tensorboard~=2.6->tensorflow) (3.3.4)\n",
      "Requirement already satisfied: tensorboard-data-server<0.7.0,>=0.6.0 in c:\\python 2\\lib\\site-packages (from tensorboard~=2.6->tensorflow) (0.6.1)\n",
      "Requirement already satisfied: google-auth<2,>=1.6.3 in c:\\python 2\\lib\\site-packages (from tensorboard~=2.6->tensorflow) (1.35.0)\n",
      "Requirement already satisfied: requests<3,>=2.21.0 in c:\\python 2\\lib\\site-packages (from tensorboard~=2.6->tensorflow) (2.26.0)\n",
      "Requirement already satisfied: werkzeug>=0.11.15 in c:\\python 2\\lib\\site-packages (from tensorboard~=2.6->tensorflow) (0.14.1)\n",
      "Requirement already satisfied: google-auth-oauthlib<0.5,>=0.4.1 in c:\\python 2\\lib\\site-packages (from tensorboard~=2.6->tensorflow) (0.4.5)\n",
      "Requirement already satisfied: pyasn1-modules>=0.2.1 in c:\\python 2\\lib\\site-packages (from google-auth<2,>=1.6.3->tensorboard~=2.6->tensorflow) (0.2.2)\n",
      "Requirement already satisfied: cachetools<5.0,>=2.0.0 in c:\\python 2\\lib\\site-packages (from google-auth<2,>=1.6.3->tensorboard~=2.6->tensorflow) (4.2.2)\n",
      "Requirement already satisfied: rsa<5,>=3.1.4 in c:\\python 2\\lib\\site-packages (from google-auth<2,>=1.6.3->tensorboard~=2.6->tensorflow) (4.7.2)\n",
      "Requirement already satisfied: requests-oauthlib>=0.7.0 in c:\\python 2\\lib\\site-packages (from google-auth-oauthlib<0.5,>=0.4.1->tensorboard~=2.6->tensorflow) (1.3.0)\n",
      "Requirement already satisfied: importlib-metadata in c:\\python 2\\lib\\site-packages (from markdown>=2.6.8->tensorboard~=2.6->tensorflow) (4.7.1)\n",
      "Requirement already satisfied: pyasn1<0.5.0,>=0.4.1 in c:\\python 2\\lib\\site-packages (from pyasn1-modules>=0.2.1->google-auth<2,>=1.6.3->tensorboard~=2.6->tensorflow) (0.4.4)\n",
      "Requirement already satisfied: charset-normalizer~=2.0.0 in c:\\python 2\\lib\\site-packages (from requests<3,>=2.21.0->tensorboard~=2.6->tensorflow) (2.0.4)\n",
      "Requirement already satisfied: idna<4,>=2.5 in c:\\python 2\\lib\\site-packages (from requests<3,>=2.21.0->tensorboard~=2.6->tensorflow) (2.7)\n",
      "Requirement already satisfied: certifi>=2017.4.17 in c:\\python 2\\lib\\site-packages (from requests<3,>=2.21.0->tensorboard~=2.6->tensorflow) (2018.8.24)\n",
      "Requirement already satisfied: urllib3<1.27,>=1.21.1 in c:\\python 2\\lib\\site-packages (from requests<3,>=2.21.0->tensorboard~=2.6->tensorflow) (1.23)\n",
      "Requirement already satisfied: oauthlib>=3.0.0 in c:\\python 2\\lib\\site-packages (from requests-oauthlib>=0.7.0->google-auth-oauthlib<0.5,>=0.4.1->tensorboard~=2.6->tensorflow) (3.1.1)\n",
      "Requirement already satisfied: zipp>=0.5 in c:\\python 2\\lib\\site-packages (from importlib-metadata->markdown>=2.6.8->tensorboard~=2.6->tensorflow) (3.5.0)\n",
      "Installing collected packages: wrapt, termcolor, tensorflow-estimator, tensorboard, opt-einsum, keras-preprocessing, h5py, google-pasta, gast, flatbuffers, clang, astunparse, tensorflow\n",
      "  Attempting uninstall: wrapt\n",
      "    Found existing installation: wrapt 1.10.11\n"
     ]
    },
    {
     "name": "stderr",
     "output_type": "stream",
     "text": [
      "WARNING: Ignoring invalid distribution -umpy (c:\\python 2\\lib\\site-packages)\n",
      "WARNING: Ignoring invalid distribution -andas (c:\\python 2\\lib\\site-packages)\n",
      "WARNING: Ignoring invalid distribution -umpy (c:\\python 2\\lib\\site-packages)\n",
      "WARNING: Ignoring invalid distribution -andas (c:\\python 2\\lib\\site-packages)\n",
      "WARNING: Ignoring invalid distribution -umpy (c:\\python 2\\lib\\site-packages)\n",
      "WARNING: Ignoring invalid distribution -andas (c:\\python 2\\lib\\site-packages)\n",
      "    WARNING: Ignoring invalid distribution -umpy (c:\\python 2\\lib\\site-packages)\n",
      "    WARNING: Ignoring invalid distribution -andas (c:\\python 2\\lib\\site-packages)\n",
      "ERROR: Cannot uninstall 'wrapt'. It is a distutils installed project and thus we cannot accurately determine which files belong to it which would lead to only a partial uninstall.\n",
      "WARNING: Ignoring invalid distribution -umpy (c:\\python 2\\lib\\site-packages)\n",
      "WARNING: Ignoring invalid distribution -andas (c:\\python 2\\lib\\site-packages)\n"
     ]
    }
   ],
   "source": [
    "#Code in Keras..task to create multilayer perceptron\n",
    "#Problem statement..work on MNIST dataset\n",
    "#in MNIST dataset we have some images of 28*28 dimensions and we have hand written number in it.\n",
    "# we have to identify that hand written number and picture..n.which class it belong to from 0 to 9.\n",
    "\n",
    "\n"
   ]
  },
  {
   "cell_type": "code",
   "execution_count": 9,
   "metadata": {},
   "outputs": [
    {
     "data": {
      "text/plain": [
       "'2.5.0'"
      ]
     },
     "execution_count": 9,
     "metadata": {},
     "output_type": "execute_result"
    }
   ],
   "source": [
    "import tensorflow as tf\n",
    "tf.__version__"
   ]
  },
  {
   "cell_type": "code",
   "execution_count": 13,
   "metadata": {},
   "outputs": [],
   "source": [
    "import tensorflow\n",
    "import matplotlib.pyplot as plt\n",
    "from tensorflow.keras import utils\n",
    "from tensorflow.keras.layers import Dense,Flatten\n",
    "from tensorflow.keras.models import Sequential\n",
    "from tensorflow.keras.utils import to_categorical\n",
    "from tensorflow.keras.datasets import mnist\n"
   ]
  },
  {
   "cell_type": "code",
   "execution_count": 14,
   "metadata": {},
   "outputs": [],
   "source": [
    "(X_train,y_train), (X_test,y_test)=mnist.load_data()"
   ]
  },
  {
   "cell_type": "code",
   "execution_count": 4,
   "metadata": {},
   "outputs": [
    {
     "data": {
      "text/plain": [
       "(10000,)"
      ]
     },
     "execution_count": 4,
     "metadata": {},
     "output_type": "execute_result"
    }
   ],
   "source": [
    "y_test.shape"
   ]
  },
  {
   "cell_type": "code",
   "execution_count": 5,
   "metadata": {},
   "outputs": [
    {
     "data": {
      "text/plain": [
       "(60000, 28, 28)"
      ]
     },
     "execution_count": 5,
     "metadata": {},
     "output_type": "execute_result"
    }
   ],
   "source": [
    "X_train.shape\n",
    "#28,28 is the dimension of image..28 height and 28 width and 60000 datapoint for training"
   ]
  },
  {
   "cell_type": "code",
   "execution_count": 15,
   "metadata": {},
   "outputs": [
    {
     "data": {
      "image/png": "[encoded data removed]",
      "text/plain": [
       "<Figure size 1440x288 with 10 Axes>"
      ]
     },
     "metadata": {
      "needs_background": "light"
     },
     "output_type": "display_data"
    }
   ],
   "source": [
    "fig, axes=plt.subplots(ncols=10, sharex=False, sharey=True,figsize=(20,4))\n",
    "for i in range(10):\n",
    "    axes[i].set_title(y_train[i])\n",
    "    axes[i].imshow(X_train[i],cmap=\"gray\")\n",
    "    axes[i].get_xaxis().set_visible(False)\n",
    "    axes[i].get_yaxis().set_visible(False)\n",
    "plt.show()"
   ]
  },
  {
   "cell_type": "code",
   "execution_count": 16,
   "metadata": {},
   "outputs": [],
   "source": [
    "y_train=to_categorical(y_train)\n",
    "y_test=to_categorical(y_test)\n",
    "#change to categorical value"
   ]
  },
  {
   "cell_type": "code",
   "execution_count": 17,
   "metadata": {},
   "outputs": [
    {
     "data": {
      "text/plain": [
       "(10000, 10)"
      ]
     },
     "execution_count": 17,
     "metadata": {},
     "output_type": "execute_result"
    }
   ],
   "source": [
    "y_test.shape"
   ]
  },
  {
   "cell_type": "code",
   "execution_count": 18,
   "metadata": {},
   "outputs": [],
   "source": [
    "# model is sequential layer one after the other so sequential\n",
    "#Flatten basically flatten the 28,28 2D in 1D..reason becoz we are using multiplayer perceptron take 1 input that is 1D\n",
    "#Adding dense layer and activation is sigmoid and neuron is 10...dense means fully connected \n",
    "#Adding dense layer and activation is sigmoid and neuron is 5 \n",
    "#Adding dense layer and activation is softmax and neuron is 5 \n",
    "#this multiclass classification..so for multiclass we prefer softmax\n",
    "model=Sequential()\n",
    "model.add(Flatten(input_shape=(28,28)))\n",
    "model.add(Dense(10,activation=\"sigmoid\"))\n",
    "model.add(Dense(5,activation=\"sigmoid\"))\n",
    "model.add(Dense(10,activation=\"softmax\"))"
   ]
  },
  {
   "cell_type": "code",
   "execution_count": 19,
   "metadata": {},
   "outputs": [
    {
     "name": "stdout",
     "output_type": "stream",
     "text": [
      "Model: \"sequential\"\n",
      "_________________________________________________________________\n",
      "Layer (type)                 Output Shape              Param #   \n",
      "=================================================================\n",
      "flatten (Flatten)            (None, 784)               0         \n",
      "_________________________________________________________________\n",
      "dense (Dense)                (None, 10)                7850      \n",
      "_________________________________________________________________\n",
      "dense_1 (Dense)              (None, 5)                 55        \n",
      "_________________________________________________________________\n",
      "dense_2 (Dense)              (None, 10)                60        \n",
      "=================================================================\n",
      "Total params: 7,965\n",
      "Trainable params: 7,965\n",
      "Non-trainable params: 0\n",
      "_________________________________________________________________\n"
     ]
    }
   ],
   "source": [
    "model.summary()\n",
    "#parameters means number of weights and baises we will be training"
   ]
  },
  {
   "cell_type": "code",
   "execution_count": 29,
   "metadata": {},
   "outputs": [
    {
     "name": "stdout",
     "output_type": "stream",
     "text": [
      "('You must install pydot (`pip install pydot`) and install graphviz (see instructions at https://graphviz.gitlab.io/download/) ', 'for plot_model/model_to_dot to work.')\n"
     ]
    }
   ],
   "source": [
    "\n",
    "utils.plot_model(model,show_shapes=True)\n",
    "#defing the architecture"
   ]
  },
  {
   "cell_type": "code",
   "execution_count": 21,
   "metadata": {},
   "outputs": [],
   "source": [
    "#compile the model\n",
    "model.compile(loss='categorical_crossentropy',\n",
    "              optimizer='adam',\n",
    "              metrics=['acc'])\n",
    "#loss=\"categorical_crossentropy\"\n",
    "#optimizer=\"adam\"\n",
    "#metrics=\"acc\" or accuracy"
   ]
  },
  {
   "cell_type": "code",
   "execution_count": 22,
   "metadata": {},
   "outputs": [
    {
     "name": "stdout",
     "output_type": "stream",
     "text": [
      "Epoch 1/20\n",
      "1875/1875 [==============================] - 7s 2ms/step - loss: 1.7893 - acc: 0.4415 - val_loss: 1.4417 - val_acc: 0.5032\n",
      "Epoch 2/20\n",
      "1875/1875 [==============================] - 3s 2ms/step - loss: 1.2402 - acc: 0.6241 - val_loss: 1.0576 - val_acc: 0.6962\n",
      "Epoch 3/20\n",
      "1875/1875 [==============================] - 3s 1ms/step - loss: 0.9838 - acc: 0.7106 - val_loss: 0.8896 - val_acc: 0.7304\n",
      "Epoch 4/20\n",
      "1875/1875 [==============================] - 3s 1ms/step - loss: 0.8706 - acc: 0.7420 - val_loss: 0.8350 - val_acc: 0.7622\n",
      "Epoch 5/20\n",
      "1875/1875 [==============================] - 3s 1ms/step - loss: 0.8104 - acc: 0.7654 - val_loss: 0.7437 - val_acc: 0.7872\n",
      "Epoch 6/20\n",
      "1875/1875 [==============================] - 3s 1ms/step - loss: 0.7777 - acc: 0.7654 - val_loss: 0.7749 - val_acc: 0.7741\n",
      "Epoch 7/20\n",
      "1875/1875 [==============================] - 3s 1ms/step - loss: 0.7634 - acc: 0.7639 - val_loss: 0.7210 - val_acc: 0.7665\n",
      "Epoch 8/20\n",
      "1875/1875 [==============================] - 3s 1ms/step - loss: 0.7270 - acc: 0.7747 - val_loss: 0.7219 - val_acc: 0.7730\n",
      "Epoch 9/20\n",
      "1875/1875 [==============================] - 3s 2ms/step - loss: 0.7309 - acc: 0.7752 - val_loss: 0.6770 - val_acc: 0.7841\n",
      "Epoch 10/20\n",
      "1875/1875 [==============================] - 3s 2ms/step - loss: 0.6861 - acc: 0.7902 - val_loss: 0.6718 - val_acc: 0.7896\n",
      "Epoch 11/20\n",
      "1875/1875 [==============================] - 3s 1ms/step - loss: 0.7016 - acc: 0.7836 - val_loss: 0.6899 - val_acc: 0.7794\n",
      "Epoch 12/20\n",
      "1875/1875 [==============================] - 3s 1ms/step - loss: 0.6635 - acc: 0.7938 - val_loss: 0.8187 - val_acc: 0.7303\n",
      "Epoch 13/20\n",
      "1875/1875 [==============================] - 3s 1ms/step - loss: 0.6501 - acc: 0.8017 - val_loss: 0.5978 - val_acc: 0.8164\n",
      "Epoch 14/20\n",
      "1875/1875 [==============================] - 3s 1ms/step - loss: 0.6351 - acc: 0.8054 - val_loss: 0.6457 - val_acc: 0.8073\n",
      "Epoch 15/20\n",
      "1875/1875 [==============================] - 3s 1ms/step - loss: 0.6332 - acc: 0.8039 - val_loss: 0.6344 - val_acc: 0.7913\n",
      "Epoch 16/20\n",
      "1875/1875 [==============================] - 3s 1ms/step - loss: 0.6210 - acc: 0.8080 - val_loss: 0.6436 - val_acc: 0.8184\n",
      "Epoch 17/20\n",
      "1875/1875 [==============================] - 3s 2ms/step - loss: 0.6003 - acc: 0.8145 - val_loss: 0.5936 - val_acc: 0.8188\n",
      "Epoch 18/20\n",
      "1875/1875 [==============================] - 3s 2ms/step - loss: 0.6012 - acc: 0.8224 - val_loss: 0.5653 - val_acc: 0.8348\n",
      "Epoch 19/20\n",
      "1875/1875 [==============================] - 3s 2ms/step - loss: 0.6034 - acc: 0.8183 - val_loss: 0.6009 - val_acc: 0.8247\n",
      "Epoch 20/20\n",
      "1875/1875 [==============================] - 3s 1ms/step - loss: 0.6101 - acc: 0.8163 - val_loss: 0.5874 - val_acc: 0.8264\n"
     ]
    },
    {
     "data": {
      "text/plain": [
       "<tensorflow.python.keras.callbacks.History at 0x249576f90a0>"
      ]
     },
     "execution_count": 22,
     "metadata": {},
     "output_type": "execute_result"
    }
   ],
   "source": [
    "model.fit(X_train,y_train,epochs=20,validation_data=(X_test,y_test))"
   ]
  },
  {
   "cell_type": "code",
   "execution_count": 23,
   "metadata": {},
   "outputs": [],
   "source": [
    "#Purpose is to reduce the loss while increasing the accuracy for traning and validation\n",
    "#Input we send in batches or we can also send at once but then RAM issue will be there so we send in batches\n",
    "#by default batch size is 32..so model do not assume anything give none output..mentioned in summary\n",
    "#usually in power of 2 (2^5)\n",
    "# we have epochs and steps per epochs...60000 datapoint and 32 batch size so 60000/32=1875..step per epoch is 1875"
   ]
  },
  {
   "cell_type": "code",
   "execution_count": 24,
   "metadata": {},
   "outputs": [],
   "source": [
    "#if we increase the number of epoch then we may see increase in accuracy\n",
    "#currently we are flattening 2D image to 1D so accuracy is not so good when we use CNN we can see improvement in accuracy"
   ]
  },
  {
   "cell_type": "code",
   "execution_count": 26,
   "metadata": {},
   "outputs": [],
   "source": [
    "model.save('mnist_model.h5')"
   ]
  },
  {
   "cell_type": "code",
   "execution_count": 30,
   "metadata": {},
   "outputs": [],
   "source": [
    "# we can visulize the model using netron app..at times model is very large to understand model in detail netron is useful"
   ]
  },
  {
   "cell_type": "code",
   "execution_count": 31,
   "metadata": {},
   "outputs": [
    {
     "name": "stdout",
     "output_type": "stream",
     "text": [
      "Epoch 1/20\n",
      "1875/1875 [==============================] - 9s 4ms/step - loss: 0.5886 - acc: 0.8240 - val_loss: 0.5583 - val_acc: 0.8428\n",
      "Epoch 2/20\n",
      "1875/1875 [==============================] - 3s 2ms/step - loss: 0.5868 - acc: 0.8241 - val_loss: 0.5930 - val_acc: 0.8135\n",
      "Epoch 3/20\n",
      "1875/1875 [==============================] - 3s 2ms/step - loss: 0.5727 - acc: 0.8349 - val_loss: 0.6055 - val_acc: 0.8172\n",
      "Epoch 4/20\n",
      "1875/1875 [==============================] - 3s 2ms/step - loss: 0.5627 - acc: 0.8356 - val_loss: 0.5509 - val_acc: 0.8409\n",
      "Epoch 5/20\n",
      "1875/1875 [==============================] - 3s 1ms/step - loss: 0.5832 - acc: 0.8263 - val_loss: 0.5957 - val_acc: 0.8281\n",
      "Epoch 6/20\n",
      "1875/1875 [==============================] - 3s 2ms/step - loss: 0.5749 - acc: 0.8342 - val_loss: 0.5876 - val_acc: 0.8331\n",
      "Epoch 7/20\n",
      "1875/1875 [==============================] - 3s 2ms/step - loss: 0.5521 - acc: 0.8444 - val_loss: 0.5509 - val_acc: 0.8441\n",
      "Epoch 8/20\n",
      "1875/1875 [==============================] - 3s 2ms/step - loss: 0.5354 - acc: 0.8468 - val_loss: 0.5371 - val_acc: 0.8460\n",
      "Epoch 9/20\n",
      "1875/1875 [==============================] - 3s 2ms/step - loss: 0.5368 - acc: 0.8552 - val_loss: 0.5315 - val_acc: 0.8638\n",
      "Epoch 10/20\n",
      "1875/1875 [==============================] - 3s 2ms/step - loss: 0.5468 - acc: 0.8503 - val_loss: 0.5482 - val_acc: 0.8450\n",
      "Epoch 11/20\n",
      "1875/1875 [==============================] - 4s 2ms/step - loss: 0.5242 - acc: 0.8563 - val_loss: 0.5681 - val_acc: 0.8449\n",
      "Epoch 12/20\n",
      "1875/1875 [==============================] - 3s 2ms/step - loss: 0.5159 - acc: 0.8632 - val_loss: 0.5271 - val_acc: 0.8565\n",
      "Epoch 13/20\n",
      "1875/1875 [==============================] - 3s 2ms/step - loss: 0.5041 - acc: 0.8676 - val_loss: 0.5153 - val_acc: 0.8641\n",
      "Epoch 14/20\n",
      "1875/1875 [==============================] - 3s 2ms/step - loss: 0.5102 - acc: 0.8658 - val_loss: 0.5130 - val_acc: 0.8699\n",
      "Epoch 15/20\n",
      "1875/1875 [==============================] - 3s 2ms/step - loss: 0.5088 - acc: 0.8627 - val_loss: 0.5329 - val_acc: 0.8594\n",
      "Epoch 16/20\n",
      "1875/1875 [==============================] - 3s 1ms/step - loss: 0.5165 - acc: 0.8627 - val_loss: 0.5187 - val_acc: 0.8614\n",
      "Epoch 17/20\n",
      "1875/1875 [==============================] - 3s 1ms/step - loss: 0.5041 - acc: 0.8693 - val_loss: 0.5160 - val_acc: 0.8651\n",
      "Epoch 18/20\n",
      "1875/1875 [==============================] - 2s 1ms/step - loss: 0.5051 - acc: 0.8629 - val_loss: 0.5024 - val_acc: 0.8681\n",
      "Epoch 19/20\n",
      "1875/1875 [==============================] - 2s 1ms/step - loss: 0.5073 - acc: 0.8687 - val_loss: 0.5005 - val_acc: 0.8735\n",
      "Epoch 20/20\n",
      "1875/1875 [==============================] - 3s 1ms/step - loss: 0.4966 - acc: 0.8726 - val_loss: 0.4925 - val_acc: 0.8731\n"
     ]
    }
   ],
   "source": [
    "#Video 12 Handwritten number recognition using Keras part 2 and Google Colab.\n",
    "history=model.fit(X_train,y_train,epochs=20,validation_data=(X_test,y_test))"
   ]
  },
  {
   "cell_type": "code",
   "execution_count": 32,
   "metadata": {},
   "outputs": [
    {
     "data": {
      "text/plain": [
       "{'loss': [0.5885993242263794,\n",
       "  0.5868257880210876,\n",
       "  0.572706937789917,\n",
       "  0.5627160668373108,\n",
       "  0.5831717252731323,\n",
       "  0.5748788118362427,\n",
       "  0.5520560145378113,\n",
       "  0.5354087948799133,\n",
       "  0.536754846572876,\n",
       "  0.5467731356620789,\n",
       "  0.5241897106170654,\n",
       "  0.5159425139427185,\n",
       "  0.5041028261184692,\n",
       "  0.5102209448814392,\n",
       "  0.5088125467300415,\n",
       "  0.5164982676506042,\n",
       "  0.5040676593780518,\n",
       "  0.505145251750946,\n",
       "  0.5072850584983826,\n",
       "  0.4965844452381134],\n",
       " 'acc': [0.8240333199501038,\n",
       "  0.8241166472434998,\n",
       "  0.834933340549469,\n",
       "  0.8356166481971741,\n",
       "  0.8262500166893005,\n",
       "  0.8342166543006897,\n",
       "  0.8444166779518127,\n",
       "  0.8468000292778015,\n",
       "  0.8551666736602783,\n",
       "  0.8503333330154419,\n",
       "  0.8562666773796082,\n",
       "  0.8632333278656006,\n",
       "  0.8675500154495239,\n",
       "  0.8657666444778442,\n",
       "  0.8627333045005798,\n",
       "  0.862666666507721,\n",
       "  0.8692666888237,\n",
       "  0.8628666400909424,\n",
       "  0.8687333464622498,\n",
       "  0.8726000189781189],\n",
       " 'val_loss': [0.5582823157310486,\n",
       "  0.5929585695266724,\n",
       "  0.605506956577301,\n",
       "  0.5509136915206909,\n",
       "  0.5957330465316772,\n",
       "  0.587628960609436,\n",
       "  0.5509379506111145,\n",
       "  0.5370619893074036,\n",
       "  0.5314608216285706,\n",
       "  0.5481877326965332,\n",
       "  0.5680750608444214,\n",
       "  0.5270765423774719,\n",
       "  0.5153425931930542,\n",
       "  0.5130255222320557,\n",
       "  0.5329336524009705,\n",
       "  0.5186766982078552,\n",
       "  0.5160082578659058,\n",
       "  0.5024478435516357,\n",
       "  0.5004581809043884,\n",
       "  0.49249085783958435],\n",
       " 'val_acc': [0.8428000211715698,\n",
       "  0.8134999871253967,\n",
       "  0.8172000050544739,\n",
       "  0.8409000039100647,\n",
       "  0.8281000256538391,\n",
       "  0.8331000208854675,\n",
       "  0.8440999984741211,\n",
       "  0.8460000157356262,\n",
       "  0.8637999892234802,\n",
       "  0.8450000286102295,\n",
       "  0.8449000120162964,\n",
       "  0.8565000295639038,\n",
       "  0.8640999794006348,\n",
       "  0.8698999881744385,\n",
       "  0.8593999743461609,\n",
       "  0.8614000082015991,\n",
       "  0.8651000261306763,\n",
       "  0.8680999875068665,\n",
       "  0.8734999895095825,\n",
       "  0.8730999827384949]}"
      ]
     },
     "execution_count": 32,
     "metadata": {},
     "output_type": "execute_result"
    }
   ],
   "source": [
    "history.history"
   ]
  },
  {
   "cell_type": "code",
   "execution_count": 33,
   "metadata": {},
   "outputs": [
    {
     "data": {
      "text/plain": [
       "<matplotlib.legend.Legend at 0x2495d4e9700>"
      ]
     },
     "execution_count": 33,
     "metadata": {},
     "output_type": "execute_result"
    },
    {
     "data": {
      "image/png": "[encoded data removed]",
      "text/plain": [
       "<Figure size 432x288 with 1 Axes>"
      ]
     },
     "metadata": {
      "needs_background": "light"
     },
     "output_type": "display_data"
    }
   ],
   "source": [
    "plt.plot(history.history[\"loss\"],label=\"Train_Loss\")\n",
    "plt.plot(history.history[\"val_loss\"],label=\"Validation_Loss\")\n",
    "plt.legend()"
   ]
  },
  {
   "cell_type": "code",
   "execution_count": 34,
   "metadata": {},
   "outputs": [
    {
     "data": {
      "text/plain": [
       "<matplotlib.legend.Legend at 0x2495d526400>"
      ]
     },
     "execution_count": 34,
     "metadata": {},
     "output_type": "execute_result"
    },
    {
     "data": {
      "image/png": "[encoded data removed]",
      "text/plain": [
       "<Figure size 432x288 with 1 Axes>"
      ]
     },
     "metadata": {
      "needs_background": "light"
     },
     "output_type": "display_data"
    }
   ],
   "source": [
    "plt.plot(history.history[\"acc\"],label=\"Train_acc\")\n",
    "plt.plot(history.history[\"val_acc\"],label=\"Validation_Acc\")\n",
    "plt.legend()"
   ]
  },
  {
   "cell_type": "code",
   "execution_count": null,
   "metadata": {},
   "outputs": [],
   "source": [
    "\n",
    "\n"
   ]
  },
  {
   "cell_type": "code",
   "execution_count": 39,
   "metadata": {},
   "outputs": [],
   "source": [
    "model=tensorflow.keras.models.load_model('mnist_model.h5')"
   ]
  },
  {
   "cell_type": "code",
   "execution_count": 40,
   "metadata": {},
   "outputs": [
    {
     "data": {
      "text/plain": [
       "<matplotlib.image.AxesImage at 0x2495d5da370>"
      ]
     },
     "execution_count": 40,
     "metadata": {},
     "output_type": "execute_result"
    },
    {
     "data": {
      "image/png": "[encoded data removed]",
      "text/plain": [
       "<Figure size 432x288 with 1 Axes>"
      ]
     },
     "metadata": {
      "needs_background": "light"
     },
     "output_type": "display_data"
    }
   ],
   "source": [
    "#imshow to show the image therefore used instead of plot\n",
    "plt.imshow(X_test[0],cmap=\"gray\")"
   ]
  },
  {
   "cell_type": "code",
   "execution_count": 41,
   "metadata": {},
   "outputs": [
    {
     "data": {
      "text/plain": [
       "array([[  0,   0,   0,   0,   0,   0,   0,   0,   0,   0,   0,   0,   0,\n",
       "          0,   0,   0,   0,   0,   0,   0,   0,   0,   0,   0,   0,   0,\n",
       "          0,   0],\n",
       "       [  0,   0,   0,   0,   0,   0,   0,   0,   0,   0,   0,   0,   0,\n",
       "          0,   0,   0,   0,   0,   0,   0,   0,   0,   0,   0,   0,   0,\n",
       "          0,   0],\n",
       "       [  0,   0,   0,   0,   0,   0,   0,   0,   0,   0,   0,   0,   0,\n",
       "          0,   0,   0,   0,   0,   0,   0,   0,   0,   0,   0,   0,   0,\n",
       "          0,   0],\n",
       "       [  0,   0,   0,   0,   0,   0,   0,   0,   0,   0,   0,   0,   0,\n",
       "          0,   0,   0,   0,   0,   0,   0,   0,   0,   0,   0,   0,   0,\n",
       "          0,   0],\n",
       "       [  0,   0,   0,   0,   0,   0,   0,   0,   0,   0,   0,   0,   0,\n",
       "          0,   0,   0,   0,   0,   0,   0,   0,   0,   0,   0,   0,   0,\n",
       "          0,   0],\n",
       "       [  0,   0,   0,   0,   0,   0,   0,   0,   0,   0,   0,   0,   0,\n",
       "          0,   0,   0,   0,   0,   0,   0,   0,   0,   0,   0,   0,   0,\n",
       "          0,   0],\n",
       "       [  0,   0,   0,   0,   0,   0,   0,   0,   0,   0,   0,   0,   0,\n",
       "          0,   0,   0,   0,   0,   0,   0,   0,   0,   0,   0,   0,   0,\n",
       "          0,   0],\n",
       "       [  0,   0,   0,   0,   0,   0,  84, 185, 159, 151,  60,  36,   0,\n",
       "          0,   0,   0,   0,   0,   0,   0,   0,   0,   0,   0,   0,   0,\n",
       "          0,   0],\n",
       "       [  0,   0,   0,   0,   0,   0, 222, 254, 254, 254, 254, 241, 198,\n",
       "        198, 198, 198, 198, 198, 198, 198, 170,  52,   0,   0,   0,   0,\n",
       "          0,   0],\n",
       "       [  0,   0,   0,   0,   0,   0,  67, 114,  72, 114, 163, 227, 254,\n",
       "        225, 254, 254, 254, 250, 229, 254, 254, 140,   0,   0,   0,   0,\n",
       "          0,   0],\n",
       "       [  0,   0,   0,   0,   0,   0,   0,   0,   0,   0,   0,  17,  66,\n",
       "         14,  67,  67,  67,  59,  21, 236, 254, 106,   0,   0,   0,   0,\n",
       "          0,   0],\n",
       "       [  0,   0,   0,   0,   0,   0,   0,   0,   0,   0,   0,   0,   0,\n",
       "          0,   0,   0,   0,   0,  83, 253, 209,  18,   0,   0,   0,   0,\n",
       "          0,   0],\n",
       "       [  0,   0,   0,   0,   0,   0,   0,   0,   0,   0,   0,   0,   0,\n",
       "          0,   0,   0,   0,  22, 233, 255,  83,   0,   0,   0,   0,   0,\n",
       "          0,   0],\n",
       "       [  0,   0,   0,   0,   0,   0,   0,   0,   0,   0,   0,   0,   0,\n",
       "          0,   0,   0,   0, 129, 254, 238,  44,   0,   0,   0,   0,   0,\n",
       "          0,   0],\n",
       "       [  0,   0,   0,   0,   0,   0,   0,   0,   0,   0,   0,   0,   0,\n",
       "          0,   0,   0,  59, 249, 254,  62,   0,   0,   0,   0,   0,   0,\n",
       "          0,   0],\n",
       "       [  0,   0,   0,   0,   0,   0,   0,   0,   0,   0,   0,   0,   0,\n",
       "          0,   0,   0, 133, 254, 187,   5,   0,   0,   0,   0,   0,   0,\n",
       "          0,   0],\n",
       "       [  0,   0,   0,   0,   0,   0,   0,   0,   0,   0,   0,   0,   0,\n",
       "          0,   0,   9, 205, 248,  58,   0,   0,   0,   0,   0,   0,   0,\n",
       "          0,   0],\n",
       "       [  0,   0,   0,   0,   0,   0,   0,   0,   0,   0,   0,   0,   0,\n",
       "          0,   0, 126, 254, 182,   0,   0,   0,   0,   0,   0,   0,   0,\n",
       "          0,   0],\n",
       "       [  0,   0,   0,   0,   0,   0,   0,   0,   0,   0,   0,   0,   0,\n",
       "          0,  75, 251, 240,  57,   0,   0,   0,   0,   0,   0,   0,   0,\n",
       "          0,   0],\n",
       "       [  0,   0,   0,   0,   0,   0,   0,   0,   0,   0,   0,   0,   0,\n",
       "         19, 221, 254, 166,   0,   0,   0,   0,   0,   0,   0,   0,   0,\n",
       "          0,   0],\n",
       "       [  0,   0,   0,   0,   0,   0,   0,   0,   0,   0,   0,   0,   3,\n",
       "        203, 254, 219,  35,   0,   0,   0,   0,   0,   0,   0,   0,   0,\n",
       "          0,   0],\n",
       "       [  0,   0,   0,   0,   0,   0,   0,   0,   0,   0,   0,   0,  38,\n",
       "        254, 254,  77,   0,   0,   0,   0,   0,   0,   0,   0,   0,   0,\n",
       "          0,   0],\n",
       "       [  0,   0,   0,   0,   0,   0,   0,   0,   0,   0,   0,  31, 224,\n",
       "        254, 115,   1,   0,   0,   0,   0,   0,   0,   0,   0,   0,   0,\n",
       "          0,   0],\n",
       "       [  0,   0,   0,   0,   0,   0,   0,   0,   0,   0,   0, 133, 254,\n",
       "        254,  52,   0,   0,   0,   0,   0,   0,   0,   0,   0,   0,   0,\n",
       "          0,   0],\n",
       "       [  0,   0,   0,   0,   0,   0,   0,   0,   0,   0,  61, 242, 254,\n",
       "        254,  52,   0,   0,   0,   0,   0,   0,   0,   0,   0,   0,   0,\n",
       "          0,   0],\n",
       "       [  0,   0,   0,   0,   0,   0,   0,   0,   0,   0, 121, 254, 254,\n",
       "        219,  40,   0,   0,   0,   0,   0,   0,   0,   0,   0,   0,   0,\n",
       "          0,   0],\n",
       "       [  0,   0,   0,   0,   0,   0,   0,   0,   0,   0, 121, 254, 207,\n",
       "         18,   0,   0,   0,   0,   0,   0,   0,   0,   0,   0,   0,   0,\n",
       "          0,   0],\n",
       "       [  0,   0,   0,   0,   0,   0,   0,   0,   0,   0,   0,   0,   0,\n",
       "          0,   0,   0,   0,   0,   0,   0,   0,   0,   0,   0,   0,   0,\n",
       "          0,   0]], dtype=uint8)"
      ]
     },
     "execution_count": 41,
     "metadata": {},
     "output_type": "execute_result"
    }
   ],
   "source": [
    "X_test[0]"
   ]
  },
  {
   "cell_type": "code",
   "execution_count": 43,
   "metadata": {},
   "outputs": [
    {
     "data": {
      "text/plain": [
       "7"
      ]
     },
     "execution_count": 43,
     "metadata": {},
     "output_type": "execute_result"
    }
   ],
   "source": [
    "import numpy as np\n",
    "x=np.reshape(X_test[0],(1,28,28))\n",
    "np.argmax(model.predict(x))\n",
    "\n",
    "#above input batch size is 1 so (1,28,28)\n",
    "#"
   ]
  },
  {
   "cell_type": "code",
   "execution_count": 44,
   "metadata": {},
   "outputs": [
    {
     "data": {
      "text/plain": [
       "array([[1.6625876e-07, 2.7885970e-03, 3.7483631e-03, 1.7603276e-02,\n",
       "        4.6993355e-04, 3.1967760e-05, 3.5700264e-06, 9.2347014e-01,\n",
       "        3.3069772e-03, 4.8577130e-02]], dtype=float32)"
      ]
     },
     "execution_count": 44,
     "metadata": {},
     "output_type": "execute_result"
    }
   ],
   "source": [
    "model.predict(x)\n",
    "#therefore np.argmax is necessary..below is proability of eavh number..so highest proability is of  7 ..e power -1 so it is .923"
   ]
  },
  {
   "cell_type": "code",
   "execution_count": 45,
   "metadata": {},
   "outputs": [],
   "source": [
    "#max accuracy is 0.87...so 1 D is not utilizing the extra dimension so accuracy is less we can try to increase no of epochs\n",
    "#Google collab similar to jupyter notebook\n",
    "#lot of things can be used with collab which is not possible with PC\n",
    "#Run time option of google collab provide extra edge..change runtime type..hardware accelerator.. GPU or TPU\n",
    "#GPU are costly so collab can be used for 8 hour GPU weekly....collab pro also where we can increase quota time of 8 hous weekly\n",
    "\n",
    "#CPU..Central processing unit....arthematic n logical operation..control system...1 to 8 cores\n",
    "\n",
    "#GPU..Grapic processing unit..used for graphical thing..DSP calculation..around 100's of core\n",
    "\n",
    "#TPU..Tensor processing unit..distributed GPU..fastest..when data is huge n training require 6 hour  more\n",
    "#it has lot of GPU..data is distributed among many cores....TPU basically for tensor related stuff..for Deep learning\n",
    "#TPU provided by Google..450$ per hour\n",
    "#google collab distribute the training data to cores in TPU on its own\n",
    "\n",
    "#In google collab we can check the amount of RAM used\n"
   ]
  },
  {
   "cell_type": "code",
   "execution_count": 1,
   "metadata": {},
   "outputs": [],
   "source": [
    "#Video 13..Intro to tensorflow 1.\n",
    "#tensorflow has 2 version..tensorflow 1 and tensorflow 2\n",
    "#tensorflow2 is integrated with keras so we can used lot of features of keras with it\n",
    "\n",
    "#Tensorflow1 to learn becoz most of the research paper written in tensorflow1\n",
    "#architechture of tensorflow..we have graphs and session\n",
    "#graph help build whole model architecture then we shift in session where we get the value and computethe graph\n",
    "#Graph describe the model architecture,loss,metrics, optimiser\n",
    "#in tensorflow 1 we don't have any module so we need to create from scratch\n",
    "\n",
    "#Keras use tendorflow in backend..Kears front end...Keras is updated n easy..tensorflow is complex\n",
    "\n"
   ]
  },
  {
   "cell_type": "code",
   "execution_count": 2,
   "metadata": {},
   "outputs": [],
   "source": [
    "#Video 15..Doubt Clearing Session\n",
    "##Neauron has two value (y value) linear value (y=mx+c) and probability value (sigmoid...probability value=1/1+e^-y)..value 0 to 1\n",
    "#find linear value using y=mx+c then find proability value using y.\n",
    "#\n",
    "#3 types of model\n",
    "#CNN (Convolution Neural Network)...computer Vision + ANN\n",
    "#RNN (Recurrent Neural Netwrok)...NLP + ANN\n",
    "#ANN (Artifical Neural Netwrok)..regression n classification problem\n",
    "#HNN\n",
    "#DNN"
   ]
  },
  {
   "cell_type": "code",
   "execution_count": 1,
   "metadata": {},
   "outputs": [],
   "source": [
    "#If loss is high then only back propogation..using good optimiser..Adam best optimiser..becoz it has varibale learning rate n \n",
    "#momemtum..help us get glocal minima..\n",
    "#Neuron are hypertuning parameter..dense is a parameter..so where we can put no of neurons to layer\n",
    "#layer means lot of properties we are giving to model\n",
    "\n",
    "#keras.save('filename.h5')\n",
    "#keras.save(\"filename.sav\")\n",
    "\n",
    "#Learning rate is the value of step we need to reach to global minima value\n",
    "#at global minima value we will have negligible loss\n",
    "\n",
    "\n",
    "#Q link for end to end project for mnist data"
   ]
  },
  {
   "cell_type": "code",
   "execution_count": null,
   "metadata": {},
   "outputs": [],
   "source": [
    "#Video 16...Weight Initialiser.\n",
    "#In MLP(multilayerperceptron weights were randomly assigned from a distribution)\n",
    "#Weights should neither be large nor small"
   ]
  }
 ],
 "metadata": {
  "kernelspec": {
   "display_name": "Python 3 (ipykernel)",
   "language": "python",
   "name": "python3"
  },
  "language_info": {
   "codemirror_mode": {
    "name": "ipython",
    "version": 3
   },
   "file_extension": ".py",
   "mimetype": "text/x-python",
   "name": "python",
   "nbconvert_exporter": "python",
   "pygments_lexer": "ipython3",
   "version": "3.9.6"
  }
 },
 "nbformat": 4,
 "nbformat_minor": 2
}
